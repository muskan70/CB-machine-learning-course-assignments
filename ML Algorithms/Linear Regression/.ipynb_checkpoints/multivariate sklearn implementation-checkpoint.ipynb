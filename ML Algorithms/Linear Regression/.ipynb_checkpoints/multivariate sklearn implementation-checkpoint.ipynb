{
 "cells": [
  {
   "cell_type": "markdown",
   "metadata": {},
   "source": [
    "## Sklearn linear(Multivariate) Regression Implementation"
   ]
  },
  {
   "cell_type": "code",
   "execution_count": 3,
   "metadata": {},
   "outputs": [
    {
     "name": "stdout",
     "output_type": "stream",
     "text": [
      "(506, 13) (506,)\n"
     ]
    }
   ],
   "source": [
    "#load boston dataset of sklearn\n",
    "from sklearn.datasets import load_boston\n",
    "boston=load_boston()\n",
    "X=boston.data\n",
    "Y=boston.target\n",
    "print(X.shape,Y.shape)"
   ]
  },
  {
   "cell_type": "code",
   "execution_count": 4,
   "metadata": {},
   "outputs": [
    {
     "name": "stdout",
     "output_type": "stream",
     "text": [
      "(404, 13) (102, 13)\n"
     ]
    }
   ],
   "source": [
    "#split dataset\n",
    "from sklearn.linear_model import LinearRegression\n",
    "from sklearn.model_selection import train_test_split\n",
    "X_train,X_test,Y_train,Y_test=train_test_split(X,Y,test_size=0.2)\n",
    "print(X_train.shape,X_test.shape)"
   ]
  },
  {
   "cell_type": "code",
   "execution_count": 5,
   "metadata": {},
   "outputs": [
    {
     "name": "stdout",
     "output_type": "stream",
     "text": [
      "[-1.10703883e-01  4.16131841e-02  5.68036688e-02  2.66778900e+00\n",
      " -1.63243545e+01  4.13251990e+00 -8.63710883e-03 -1.25668159e+00\n",
      "  3.24100076e-01 -1.44861012e-02 -1.04558249e+00  7.17893070e-03\n",
      " -4.71544459e-01]\n",
      "35.545564796378486\n"
     ]
    }
   ],
   "source": [
    "#apply linear regression model\n",
    "lr=LinearRegression(normalize=True)\n",
    "lr.fit(X_train,Y_train)\n",
    "print(lr.coef_)\n",
    "print(lr.intercept_)"
   ]
  },
  {
   "cell_type": "code",
   "execution_count": 5,
   "metadata": {},
   "outputs": [
    {
     "name": "stdout",
     "output_type": "stream",
     "text": [
      "training score 0.756749\n",
      "testing score 0.650806\n"
     ]
    }
   ],
   "source": [
    "print(\"training score %4f\"%lr.score(X_train,Y_train))\n",
    "print(\"testing score %4f\"%lr.score(X_test,Y_test))"
   ]
  },
  {
   "cell_type": "code",
   "execution_count": 6,
   "metadata": {},
   "outputs": [
    {
     "name": "stdout",
     "output_type": "stream",
     "text": [
      "[0.7635471  0.73636165 0.81857159 0.80846597 0.74915811 0.61682103\n",
      " 0.83908838 0.62616212 0.53455962 0.68142345]\n",
      "0.7174159033289014\n",
      "0.09486824188050683\n"
     ]
    }
   ],
   "source": [
    "#k-fold cross validation\n",
    "from sklearn.model_selection import cross_val_score\n",
    "scores=cross_val_score(lr,X_train,Y_train,cv=10,scoring='r2')\n",
    "print(scores)\n",
    "print(scores.mean())\n",
    "print(scores.std())"
   ]
  },
  {
   "cell_type": "code",
   "execution_count": 7,
   "metadata": {},
   "outputs": [
    {
     "name": "stdout",
     "output_type": "stream",
     "text": [
      "[-26.34223157 -27.03350116 -14.69528061 -17.86516832 -19.76357545\n",
      " -23.60399443 -12.51219656 -33.40781402 -33.71724565 -27.49617477]\n",
      "-23.643718253416054\n",
      "6.94882422329641\n"
     ]
    }
   ],
   "source": [
    "#k-fold cross validation using neg_mean_squared_error score\n",
    "from sklearn.model_selection import cross_val_score\n",
    "scores=cross_val_score(lr,X_train,Y_train,cv=10,scoring='neg_mean_squared_error')\n",
    "print(scores)\n",
    "print(scores.mean())\n",
    "print(scores.std())"
   ]
  },
  {
   "cell_type": "code",
   "execution_count": null,
   "metadata": {},
   "outputs": [],
   "source": []
  }
 ],
 "metadata": {
  "kernelspec": {
   "display_name": "Python 3",
   "language": "python",
   "name": "python3"
  },
  "language_info": {
   "codemirror_mode": {
    "name": "ipython",
    "version": 3
   },
   "file_extension": ".py",
   "mimetype": "text/x-python",
   "name": "python",
   "nbconvert_exporter": "python",
   "pygments_lexer": "ipython3",
   "version": "3.7.3"
  }
 },
 "nbformat": 4,
 "nbformat_minor": 2
}
