{
 "cells": [
  {
   "cell_type": "code",
   "execution_count": 1,
   "metadata": {},
   "outputs": [
    {
     "name": "stdout",
     "output_type": "stream",
     "text": [
      "cv2.error: OpenCV(4.2.0) /io/opencv/modules/objdetect/src/cascadedetect.cpp:569: error: (-2:Unspecified error) in function 'bool cv::HaarEvaluator::Feature::read(const cv::FileNode&, const Size&)'\n",
      "> Invalid HAAR feature (expected: 'rw.r.x + rw.r.width <= W'), where\n",
      ">     'rw.r.x + rw.r.width' is 22\n",
      "> must be less than or equal to\n",
      ">     'W' is 16\n",
      "\n",
      "\n",
      "The above exception was the direct cause of the following exception:\n",
      "\n",
      "Traceback (most recent call last):\n",
      "  File \"solution_to_snapchat_like_filters.py\", line 5, in <module>\n",
      "    eye_cascade=cv2.CascadeClassifier(\"/home/muskan/mydata/ML-Projects-code/challenges/Challenge5 - Make snapchat like filters/frontalEyes35x16.xml\")\n",
      "SystemError: <class 'cv2.CascadeClassifier'> returned a result with an error set\n"
     ]
    }
   ],
   "source": [
    "!python solution_to_snapchat_like_filters.py"
   ]
  },
  {
   "cell_type": "code",
   "execution_count": 7,
   "metadata": {},
   "outputs": [
    {
     "name": "stdout",
     "output_type": "stream",
     "text": [
      "[[[1 2]\n",
      "  [3 4]]\n",
      "\n",
      " [[2 3]\n",
      "  [4 5]]\n",
      "\n",
      " [[3 4]\n",
      "  [5 6]]]\n",
      "(3, 2, 2)\n"
     ]
    }
   ],
   "source": [
    "import numpy as np\n",
    "x=np.array([[[1,2],[3,4]],[[2,3],[4,5]],[[3,4],[5,6]]])\n",
    "print(x)\n",
    "print(x.shape)"
   ]
  },
  {
   "cell_type": "code",
   "execution_count": 8,
   "metadata": {},
   "outputs": [
    {
     "name": "stdout",
     "output_type": "stream",
     "text": [
      "[[1 2]\n",
      " [3 4]\n",
      " [2 3]\n",
      " [4 5]\n",
      " [3 4]\n",
      " [5 6]]\n",
      "(6, 2)\n"
     ]
    }
   ],
   "source": [
    "x=x.reshape((-1,2))\n",
    "print(x)\n",
    "print(x.shape)"
   ]
  },
  {
   "cell_type": "code",
   "execution_count": null,
   "metadata": {},
   "outputs": [],
   "source": []
  }
 ],
 "metadata": {
  "kernelspec": {
   "display_name": "Python 3",
   "language": "python",
   "name": "python3"
  },
  "language_info": {
   "codemirror_mode": {
    "name": "ipython",
    "version": 3
   },
   "file_extension": ".py",
   "mimetype": "text/x-python",
   "name": "python",
   "nbconvert_exporter": "python",
   "pygments_lexer": "ipython3",
   "version": "3.7.3"
  }
 },
 "nbformat": 4,
 "nbformat_minor": 2
}
