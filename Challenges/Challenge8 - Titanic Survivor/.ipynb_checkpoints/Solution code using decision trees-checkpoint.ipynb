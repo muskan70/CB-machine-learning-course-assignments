{
 "cells": [
  {
   "cell_type": "markdown",
   "metadata": {},
   "source": [
    "### Step1: Load Dataset and analyse it"
   ]
  },
  {
   "cell_type": "code",
   "execution_count": 1,
   "metadata": {},
   "outputs": [
    {
     "data": {
      "text/html": [
       "<div>\n",
       "<style scoped>\n",
       "    .dataframe tbody tr th:only-of-type {\n",
       "        vertical-align: middle;\n",
       "    }\n",
       "\n",
       "    .dataframe tbody tr th {\n",
       "        vertical-align: top;\n",
       "    }\n",
       "\n",
       "    .dataframe thead th {\n",
       "        text-align: right;\n",
       "    }\n",
       "</style>\n",
       "<table border=\"1\" class=\"dataframe\">\n",
       "  <thead>\n",
       "    <tr style=\"text-align: right;\">\n",
       "      <th></th>\n",
       "      <th>pclass</th>\n",
       "      <th>survived</th>\n",
       "      <th>name</th>\n",
       "      <th>sex</th>\n",
       "      <th>age</th>\n",
       "      <th>sibsp</th>\n",
       "      <th>parch</th>\n",
       "      <th>ticket</th>\n",
       "      <th>fare</th>\n",
       "      <th>cabin</th>\n",
       "      <th>embarked</th>\n",
       "      <th>boat</th>\n",
       "      <th>body</th>\n",
       "      <th>home.dest</th>\n",
       "    </tr>\n",
       "  </thead>\n",
       "  <tbody>\n",
       "    <tr>\n",
       "      <th>0</th>\n",
       "      <td>3.0</td>\n",
       "      <td>0.0</td>\n",
       "      <td>O'Donoghue, Ms. Bridget</td>\n",
       "      <td>female</td>\n",
       "      <td>NaN</td>\n",
       "      <td>0.0</td>\n",
       "      <td>0.0</td>\n",
       "      <td>364856</td>\n",
       "      <td>7.750</td>\n",
       "      <td>NaN</td>\n",
       "      <td>Q</td>\n",
       "      <td>NaN</td>\n",
       "      <td>NaN</td>\n",
       "      <td>NaN</td>\n",
       "    </tr>\n",
       "    <tr>\n",
       "      <th>1</th>\n",
       "      <td>2.0</td>\n",
       "      <td>0.0</td>\n",
       "      <td>Morley, Mr. Henry Samuel (\"Mr Henry Marshall\")</td>\n",
       "      <td>male</td>\n",
       "      <td>39.0</td>\n",
       "      <td>0.0</td>\n",
       "      <td>0.0</td>\n",
       "      <td>250655</td>\n",
       "      <td>26.000</td>\n",
       "      <td>NaN</td>\n",
       "      <td>S</td>\n",
       "      <td>NaN</td>\n",
       "      <td>NaN</td>\n",
       "      <td>NaN</td>\n",
       "    </tr>\n",
       "    <tr>\n",
       "      <th>2</th>\n",
       "      <td>2.0</td>\n",
       "      <td>1.0</td>\n",
       "      <td>Smith, Miss. Marion Elsie</td>\n",
       "      <td>female</td>\n",
       "      <td>40.0</td>\n",
       "      <td>0.0</td>\n",
       "      <td>0.0</td>\n",
       "      <td>31418</td>\n",
       "      <td>13.000</td>\n",
       "      <td>NaN</td>\n",
       "      <td>S</td>\n",
       "      <td>9</td>\n",
       "      <td>NaN</td>\n",
       "      <td>NaN</td>\n",
       "    </tr>\n",
       "    <tr>\n",
       "      <th>3</th>\n",
       "      <td>3.0</td>\n",
       "      <td>1.0</td>\n",
       "      <td>Goldsmith, Mrs. Frank John (Emily Alice Brown)</td>\n",
       "      <td>female</td>\n",
       "      <td>31.0</td>\n",
       "      <td>1.0</td>\n",
       "      <td>1.0</td>\n",
       "      <td>363291</td>\n",
       "      <td>20.525</td>\n",
       "      <td>NaN</td>\n",
       "      <td>S</td>\n",
       "      <td>C D</td>\n",
       "      <td>NaN</td>\n",
       "      <td>Strood, Kent, England Detroit, MI</td>\n",
       "    </tr>\n",
       "    <tr>\n",
       "      <th>4</th>\n",
       "      <td>3.0</td>\n",
       "      <td>1.0</td>\n",
       "      <td>McCoy, Miss. Agnes</td>\n",
       "      <td>female</td>\n",
       "      <td>NaN</td>\n",
       "      <td>2.0</td>\n",
       "      <td>0.0</td>\n",
       "      <td>367226</td>\n",
       "      <td>23.250</td>\n",
       "      <td>NaN</td>\n",
       "      <td>Q</td>\n",
       "      <td>16</td>\n",
       "      <td>NaN</td>\n",
       "      <td>NaN</td>\n",
       "    </tr>\n",
       "  </tbody>\n",
       "</table>\n",
       "</div>"
      ],
      "text/plain": [
       "   pclass  survived                                            name     sex  \\\n",
       "0     3.0       0.0                         O'Donoghue, Ms. Bridget  female   \n",
       "1     2.0       0.0  Morley, Mr. Henry Samuel (\"Mr Henry Marshall\")    male   \n",
       "2     2.0       1.0                       Smith, Miss. Marion Elsie  female   \n",
       "3     3.0       1.0  Goldsmith, Mrs. Frank John (Emily Alice Brown)  female   \n",
       "4     3.0       1.0                              McCoy, Miss. Agnes  female   \n",
       "\n",
       "    age  sibsp  parch  ticket    fare cabin embarked boat  body  \\\n",
       "0   NaN    0.0    0.0  364856   7.750   NaN        Q  NaN   NaN   \n",
       "1  39.0    0.0    0.0  250655  26.000   NaN        S  NaN   NaN   \n",
       "2  40.0    0.0    0.0   31418  13.000   NaN        S    9   NaN   \n",
       "3  31.0    1.0    1.0  363291  20.525   NaN        S  C D   NaN   \n",
       "4   NaN    2.0    0.0  367226  23.250   NaN        Q   16   NaN   \n",
       "\n",
       "                           home.dest  \n",
       "0                                NaN  \n",
       "1                                NaN  \n",
       "2                                NaN  \n",
       "3  Strood, Kent, England Detroit, MI  \n",
       "4                                NaN  "
      ]
     },
     "execution_count": 1,
     "metadata": {},
     "output_type": "execute_result"
    }
   ],
   "source": [
    "import numpy as np\n",
    "import pandas as pd\n",
    "train_data=pd.read_csv(\"Train.csv\")\n",
    "train_data.head()"
   ]
  },
  {
   "cell_type": "code",
   "execution_count": 2,
   "metadata": {},
   "outputs": [
    {
     "name": "stdout",
     "output_type": "stream",
     "text": [
      "<class 'pandas.core.frame.DataFrame'>\n",
      "RangeIndex: 1009 entries, 0 to 1008\n",
      "Data columns (total 14 columns):\n",
      "pclass       1009 non-null float64\n",
      "survived     1009 non-null float64\n",
      "name         1009 non-null object\n",
      "sex          1009 non-null object\n",
      "age          812 non-null float64\n",
      "sibsp        1009 non-null float64\n",
      "parch        1009 non-null float64\n",
      "ticket       1009 non-null object\n",
      "fare         1008 non-null float64\n",
      "cabin        229 non-null object\n",
      "embarked     1008 non-null object\n",
      "boat         374 non-null object\n",
      "body         98 non-null float64\n",
      "home.dest    582 non-null object\n",
      "dtypes: float64(7), object(7)\n",
      "memory usage: 110.4+ KB\n"
     ]
    }
   ],
   "source": [
    "train_data.info()"
   ]
  },
  {
   "cell_type": "markdown",
   "metadata": {},
   "source": [
    "### Step2: Data cleaning and fill NaN values"
   ]
  },
  {
   "cell_type": "code",
   "execution_count": 3,
   "metadata": {},
   "outputs": [
    {
     "data": {
      "text/html": [
       "<div>\n",
       "<style scoped>\n",
       "    .dataframe tbody tr th:only-of-type {\n",
       "        vertical-align: middle;\n",
       "    }\n",
       "\n",
       "    .dataframe tbody tr th {\n",
       "        vertical-align: top;\n",
       "    }\n",
       "\n",
       "    .dataframe thead th {\n",
       "        text-align: right;\n",
       "    }\n",
       "</style>\n",
       "<table border=\"1\" class=\"dataframe\">\n",
       "  <thead>\n",
       "    <tr style=\"text-align: right;\">\n",
       "      <th></th>\n",
       "      <th>pclass</th>\n",
       "      <th>survived</th>\n",
       "      <th>sex</th>\n",
       "      <th>age</th>\n",
       "      <th>sibsp</th>\n",
       "      <th>parch</th>\n",
       "      <th>fare</th>\n",
       "    </tr>\n",
       "  </thead>\n",
       "  <tbody>\n",
       "    <tr>\n",
       "      <th>0</th>\n",
       "      <td>3.0</td>\n",
       "      <td>0.0</td>\n",
       "      <td>female</td>\n",
       "      <td>NaN</td>\n",
       "      <td>0.0</td>\n",
       "      <td>0.0</td>\n",
       "      <td>7.750</td>\n",
       "    </tr>\n",
       "    <tr>\n",
       "      <th>1</th>\n",
       "      <td>2.0</td>\n",
       "      <td>0.0</td>\n",
       "      <td>male</td>\n",
       "      <td>39.0</td>\n",
       "      <td>0.0</td>\n",
       "      <td>0.0</td>\n",
       "      <td>26.000</td>\n",
       "    </tr>\n",
       "    <tr>\n",
       "      <th>2</th>\n",
       "      <td>2.0</td>\n",
       "      <td>1.0</td>\n",
       "      <td>female</td>\n",
       "      <td>40.0</td>\n",
       "      <td>0.0</td>\n",
       "      <td>0.0</td>\n",
       "      <td>13.000</td>\n",
       "    </tr>\n",
       "    <tr>\n",
       "      <th>3</th>\n",
       "      <td>3.0</td>\n",
       "      <td>1.0</td>\n",
       "      <td>female</td>\n",
       "      <td>31.0</td>\n",
       "      <td>1.0</td>\n",
       "      <td>1.0</td>\n",
       "      <td>20.525</td>\n",
       "    </tr>\n",
       "    <tr>\n",
       "      <th>4</th>\n",
       "      <td>3.0</td>\n",
       "      <td>1.0</td>\n",
       "      <td>female</td>\n",
       "      <td>NaN</td>\n",
       "      <td>2.0</td>\n",
       "      <td>0.0</td>\n",
       "      <td>23.250</td>\n",
       "    </tr>\n",
       "  </tbody>\n",
       "</table>\n",
       "</div>"
      ],
      "text/plain": [
       "   pclass  survived     sex   age  sibsp  parch    fare\n",
       "0     3.0       0.0  female   NaN    0.0    0.0   7.750\n",
       "1     2.0       0.0    male  39.0    0.0    0.0  26.000\n",
       "2     2.0       1.0  female  40.0    0.0    0.0  13.000\n",
       "3     3.0       1.0  female  31.0    1.0    1.0  20.525\n",
       "4     3.0       1.0  female   NaN    2.0    0.0  23.250"
      ]
     },
     "execution_count": 3,
     "metadata": {},
     "output_type": "execute_result"
    }
   ],
   "source": [
    "columns_to_drop=[\"name\",\"ticket\",\"cabin\",\"embarked\",\"boat\",\"body\",\"home.dest\"]\n",
    "train_data_clean=train_data.drop(columns_to_drop,axis=1)\n",
    "train_data_clean.head()"
   ]
  },
  {
   "cell_type": "code",
   "execution_count": 4,
   "metadata": {},
   "outputs": [],
   "source": [
    "from sklearn.preprocessing import LabelEncoder\n",
    "le=LabelEncoder()\n",
    "train_data_clean[\"sex\"]=le.fit_transform(train_data_clean[\"sex\"])"
   ]
  },
  {
   "cell_type": "code",
   "execution_count": 5,
   "metadata": {},
   "outputs": [
    {
     "name": "stdout",
     "output_type": "stream",
     "text": [
      "   pclass  survived  sex   age  sibsp  parch    fare\n",
      "0     3.0       0.0    0   NaN    0.0    0.0   7.750\n",
      "1     2.0       0.0    1  39.0    0.0    0.0  26.000\n",
      "2     2.0       1.0    0  40.0    0.0    0.0  13.000\n",
      "3     3.0       1.0    0  31.0    1.0    1.0  20.525\n",
      "4     3.0       1.0    0   NaN    2.0    0.0  23.250\n",
      "<class 'pandas.core.frame.DataFrame'>\n",
      "RangeIndex: 1009 entries, 0 to 1008\n",
      "Data columns (total 7 columns):\n",
      "pclass      1009 non-null float64\n",
      "survived    1009 non-null float64\n",
      "sex         1009 non-null int64\n",
      "age         812 non-null float64\n",
      "sibsp       1009 non-null float64\n",
      "parch       1009 non-null float64\n",
      "fare        1008 non-null float64\n",
      "dtypes: float64(6), int64(1)\n",
      "memory usage: 55.3 KB\n",
      "None\n"
     ]
    }
   ],
   "source": [
    "print(train_data_clean.head())\n",
    "print(train_data_clean.info())"
   ]
  },
  {
   "cell_type": "code",
   "execution_count": 6,
   "metadata": {},
   "outputs": [],
   "source": [
    "#fill Nan values\n",
    "train_data_clean=train_data_clean.fillna(train_data_clean[\"age\"].mean())"
   ]
  },
  {
   "cell_type": "code",
   "execution_count": 7,
   "metadata": {},
   "outputs": [
    {
     "name": "stdout",
     "output_type": "stream",
     "text": [
      "<class 'pandas.core.frame.DataFrame'>\n",
      "RangeIndex: 1009 entries, 0 to 1008\n",
      "Data columns (total 7 columns):\n",
      "pclass      1009 non-null float64\n",
      "survived    1009 non-null float64\n",
      "sex         1009 non-null int64\n",
      "age         1009 non-null float64\n",
      "sibsp       1009 non-null float64\n",
      "parch       1009 non-null float64\n",
      "fare        1009 non-null float64\n",
      "dtypes: float64(6), int64(1)\n",
      "memory usage: 55.3 KB\n"
     ]
    }
   ],
   "source": [
    "train_data_clean.info()"
   ]
  },
  {
   "cell_type": "markdown",
   "metadata": {},
   "source": [
    "### Step3: Implement entropy function"
   ]
  },
  {
   "cell_type": "code",
   "execution_count": 9,
   "metadata": {},
   "outputs": [],
   "source": [
    "def entropy(col):\n",
    "    counts=np.unique(col,return_counts=True)\n",
    "    N=float(col.shape[0])\n",
    "    ent=0.0\n",
    "    \n",
    "    for ix in counts[1]:\n",
    "        p=ix/N\n",
    "        ent+=(-1.0*p*np.log2(p))\n",
    "        \n",
    "    return ent    "
   ]
  },
  {
   "cell_type": "markdown",
   "metadata": {},
   "source": [
    "### Step4: Implement Information gain"
   ]
  },
  {
   "cell_type": "code",
   "execution_count": 10,
   "metadata": {},
   "outputs": [],
   "source": [
    "#divide data based on one feature according to its threshold value\n",
    "def divide_data(x_data,fkey,fval):\n",
    "    x_right=pd.DataFrame([],columns=x_data.columns)\n",
    "    x_left=pd.DataFrame([],columns=x_data.columns)\n",
    "    \n",
    "    for ix in range(x_data.shape[0]):\n",
    "        val=x_data[fkey].loc[ix]\n",
    "        if val>fval:\n",
    "            x_right=x_right.append(x_data.loc[ix])\n",
    "        else:\n",
    "            x_left=x_left.append(x_data.loc[ix])\n",
    "        \n",
    "    return x_left,x_right    "
   ]
  },
  {
   "cell_type": "code",
   "execution_count": 11,
   "metadata": {},
   "outputs": [],
   "source": [
    "#Information Gain function\n",
    "def information_gain(x_data,fkey,fval):\n",
    "    left,right=divide_data(x_data,fkey,fval)\n",
    "    \n",
    "    # %age of total samples on left and right side\n",
    "    l=float(left.shape[0])/x_data.shape[0]\n",
    "    r=float(right.shape[0])/x_data.shape[0]\n",
    "    \n",
    "    #check if all examples came to one side\n",
    "    if left.shape[0]==0 or right.shape[0]==0:\n",
    "        return -10000000 #Minimum information gain\n",
    "    \n",
    "    i_gain=entropy(x_data.survived)-(l*entropy(left.survived) + r*entropy(right.survived))\n",
    "    return i_gain"
   ]
  },
  {
   "cell_type": "code",
   "execution_count": 14,
   "metadata": {},
   "outputs": [],
   "source": [
    "class DecisionTree:\n",
    "    \n",
    "    #constructor\n",
    "    def __init__(self,depth=0,max_depth=5):\n",
    "        self.left=None\n",
    "        self.right=None\n",
    "        self.fkey=None\n",
    "        self.fval=None\n",
    "        self.max_depth=max_depth\n",
    "        self.depth=depth\n",
    "        self.target=None\n",
    "        \n",
    "    def train(self,X_train):\n",
    "        features=['pclass','sex','age','sibsp','parch','fare']\n",
    "        info_gains=[]\n",
    "        \n",
    "        for ix in features:\n",
    "            i_gain=information_gain(X_train,ix,X_train[ix].mean())\n",
    "            info_gains.append(i_gain)\n",
    "            \n",
    "        self.fkey=features[np.argmax(info_gains)]\n",
    "        self.fval=X_train[self.fkey].mean()\n",
    "        print(\"Making Tree with Feature:\",self.fkey)\n",
    "        \n",
    "        #Split Data\n",
    "        data_left,data_right=divide_data(X_train,self.fkey,self.fval)\n",
    "        data_left=data_left.reset_index(drop=True)\n",
    "        data_right=data_right.reset_index(drop=True)\n",
    "        \n",
    "        #Check if a leaf node\n",
    "        if data_left.shape[0]==0 or data_right.shape[0]==0:\n",
    "            if X_train.survived.mean()>=0.5:\n",
    "                self.target=1.0\n",
    "            else:\n",
    "                self.target=0.0\n",
    "            return\n",
    "        \n",
    "        #Stop early when depth>=max_depth\n",
    "        if self.depth>=self.max_depth:\n",
    "            if X_train.survived.mean()>=0.5:\n",
    "                self.target=1.0\n",
    "            else:\n",
    "                self.target=0.0\n",
    "            return\n",
    "        \n",
    "        #Recursive case\n",
    "        self.left=DecisionTree(depth=self.depth+1,max_depth=self.max_depth)\n",
    "        self.left.train(data_left)\n",
    "        self.right=DecisionTree(depth=self.depth+1,max_depth=self.max_depth)\n",
    "        self.right.train(data_right)\n",
    "        \n",
    "        #Set the target at every node\n",
    "        if X_train.survived.mean()>=0.5:\n",
    "                self.target=1.0\n",
    "        else:\n",
    "            self.target=0.0\n",
    "        return\n",
    "    \n",
    "    #Making Predictions \n",
    "    def predict(self,test):\n",
    "        \n",
    "        if test[self.fkey]>self.fval:\n",
    "            #go to right\n",
    "            if self.right is None:\n",
    "                return self.target\n",
    "            return self.right.predict(test)\n",
    "        \n",
    "        else:\n",
    "            #go to left:\n",
    "            if self.left is None:\n",
    "                return self.target\n",
    "            return self.left.predict(test)"
   ]
  },
  {
   "cell_type": "code",
   "execution_count": 15,
   "metadata": {},
   "outputs": [
    {
     "name": "stdout",
     "output_type": "stream",
     "text": [
      "Making Tree with Feature: sex\n",
      "Making Tree with Feature: pclass\n",
      "Making Tree with Feature: pclass\n",
      "Making Tree with Feature: fare\n",
      "Making Tree with Feature: sibsp\n",
      "Making Tree with Feature: age\n",
      "Making Tree with Feature: age\n",
      "Making Tree with Feature: sibsp\n",
      "Making Tree with Feature: age\n",
      "Making Tree with Feature: sibsp\n",
      "Making Tree with Feature: parch\n",
      "Making Tree with Feature: fare\n",
      "Making Tree with Feature: sibsp\n",
      "Making Tree with Feature: fare\n",
      "Making Tree with Feature: age\n",
      "Making Tree with Feature: age\n",
      "Making Tree with Feature: parch\n",
      "Making Tree with Feature: parch\n",
      "Making Tree with Feature: sibsp\n",
      "Making Tree with Feature: fare\n",
      "Making Tree with Feature: fare\n",
      "Making Tree with Feature: fare\n",
      "Making Tree with Feature: age\n",
      "Making Tree with Feature: sibsp\n",
      "Making Tree with Feature: sibsp\n",
      "Making Tree with Feature: fare\n",
      "Making Tree with Feature: fare\n",
      "Making Tree with Feature: age\n",
      "Making Tree with Feature: fare\n",
      "Making Tree with Feature: fare\n",
      "Making Tree with Feature: fare\n",
      "Making Tree with Feature: age\n",
      "Making Tree with Feature: fare\n",
      "Making Tree with Feature: parch\n",
      "Making Tree with Feature: age\n",
      "Making Tree with Feature: fare\n",
      "Making Tree with Feature: fare\n",
      "Making Tree with Feature: fare\n",
      "Making Tree with Feature: sibsp\n",
      "Making Tree with Feature: pclass\n",
      "Making Tree with Feature: pclass\n",
      "Making Tree with Feature: age\n",
      "Making Tree with Feature: pclass\n",
      "Making Tree with Feature: age\n",
      "Making Tree with Feature: sibsp\n",
      "Making Tree with Feature: parch\n",
      "Making Tree with Feature: pclass\n",
      "Making Tree with Feature: age\n",
      "Making Tree with Feature: pclass\n",
      "Making Tree with Feature: age\n",
      "Making Tree with Feature: parch\n",
      "Making Tree with Feature: fare\n",
      "Making Tree with Feature: age\n",
      "Making Tree with Feature: sibsp\n",
      "Making Tree with Feature: fare\n",
      "Making Tree with Feature: fare\n",
      "Making Tree with Feature: sibsp\n",
      "Making Tree with Feature: sibsp\n",
      "Making Tree with Feature: pclass\n",
      "Making Tree with Feature: age\n",
      "Making Tree with Feature: age\n",
      "Making Tree with Feature: pclass\n",
      "Making Tree with Feature: pclass\n"
     ]
    }
   ],
   "source": [
    "dt=DecisionTree()\n",
    "dt.train(train_data_clean)"
   ]
  },
  {
   "cell_type": "code",
   "execution_count": 16,
   "metadata": {},
   "outputs": [
    {
     "name": "stdout",
     "output_type": "stream",
     "text": [
      "sex\n",
      "0.6422200198216056\n",
      "pclass fare\n"
     ]
    }
   ],
   "source": [
    "print(dt.fkey)\n",
    "print(dt.fval)\n",
    "print(dt.left.fkey,dt.right.fkey)"
   ]
  },
  {
   "cell_type": "code",
   "execution_count": 17,
   "metadata": {},
   "outputs": [
    {
     "data": {
      "text/html": [
       "<div>\n",
       "<style scoped>\n",
       "    .dataframe tbody tr th:only-of-type {\n",
       "        vertical-align: middle;\n",
       "    }\n",
       "\n",
       "    .dataframe tbody tr th {\n",
       "        vertical-align: top;\n",
       "    }\n",
       "\n",
       "    .dataframe thead th {\n",
       "        text-align: right;\n",
       "    }\n",
       "</style>\n",
       "<table border=\"1\" class=\"dataframe\">\n",
       "  <thead>\n",
       "    <tr style=\"text-align: right;\">\n",
       "      <th></th>\n",
       "      <th>pclass</th>\n",
       "      <th>name</th>\n",
       "      <th>sex</th>\n",
       "      <th>age</th>\n",
       "      <th>sibsp</th>\n",
       "      <th>parch</th>\n",
       "      <th>ticket</th>\n",
       "      <th>fare</th>\n",
       "      <th>cabin</th>\n",
       "      <th>embarked</th>\n",
       "      <th>boat</th>\n",
       "      <th>body</th>\n",
       "      <th>home.dest</th>\n",
       "    </tr>\n",
       "  </thead>\n",
       "  <tbody>\n",
       "    <tr>\n",
       "      <th>0</th>\n",
       "      <td>1.0</td>\n",
       "      <td>Flynn, Mr. John Irwin (\"Irving\")</td>\n",
       "      <td>male</td>\n",
       "      <td>36.0</td>\n",
       "      <td>0.0</td>\n",
       "      <td>0.0</td>\n",
       "      <td>PC 17474</td>\n",
       "      <td>26.3875</td>\n",
       "      <td>E25</td>\n",
       "      <td>S</td>\n",
       "      <td>5</td>\n",
       "      <td>NaN</td>\n",
       "      <td>Brooklyn, NY</td>\n",
       "    </tr>\n",
       "    <tr>\n",
       "      <th>1</th>\n",
       "      <td>3.0</td>\n",
       "      <td>Sage, Miss. Constance Gladys</td>\n",
       "      <td>female</td>\n",
       "      <td>NaN</td>\n",
       "      <td>8.0</td>\n",
       "      <td>2.0</td>\n",
       "      <td>CA. 2343</td>\n",
       "      <td>69.5500</td>\n",
       "      <td>NaN</td>\n",
       "      <td>S</td>\n",
       "      <td>NaN</td>\n",
       "      <td>NaN</td>\n",
       "      <td>NaN</td>\n",
       "    </tr>\n",
       "    <tr>\n",
       "      <th>2</th>\n",
       "      <td>1.0</td>\n",
       "      <td>Rood, Mr. Hugh Roscoe</td>\n",
       "      <td>male</td>\n",
       "      <td>NaN</td>\n",
       "      <td>0.0</td>\n",
       "      <td>0.0</td>\n",
       "      <td>113767</td>\n",
       "      <td>50.0000</td>\n",
       "      <td>A32</td>\n",
       "      <td>S</td>\n",
       "      <td>NaN</td>\n",
       "      <td>NaN</td>\n",
       "      <td>Seattle, WA</td>\n",
       "    </tr>\n",
       "    <tr>\n",
       "      <th>3</th>\n",
       "      <td>2.0</td>\n",
       "      <td>Gillespie, Mr. William Henry</td>\n",
       "      <td>male</td>\n",
       "      <td>34.0</td>\n",
       "      <td>0.0</td>\n",
       "      <td>0.0</td>\n",
       "      <td>12233</td>\n",
       "      <td>13.0000</td>\n",
       "      <td>NaN</td>\n",
       "      <td>S</td>\n",
       "      <td>NaN</td>\n",
       "      <td>NaN</td>\n",
       "      <td>Vancouver, BC</td>\n",
       "    </tr>\n",
       "    <tr>\n",
       "      <th>4</th>\n",
       "      <td>2.0</td>\n",
       "      <td>Collander, Mr. Erik Gustaf</td>\n",
       "      <td>male</td>\n",
       "      <td>28.0</td>\n",
       "      <td>0.0</td>\n",
       "      <td>0.0</td>\n",
       "      <td>248740</td>\n",
       "      <td>13.0000</td>\n",
       "      <td>NaN</td>\n",
       "      <td>S</td>\n",
       "      <td>NaN</td>\n",
       "      <td>NaN</td>\n",
       "      <td>Helsinki, Finland Ashtabula, Ohio</td>\n",
       "    </tr>\n",
       "  </tbody>\n",
       "</table>\n",
       "</div>"
      ],
      "text/plain": [
       "   pclass                              name     sex   age  sibsp  parch  \\\n",
       "0     1.0  Flynn, Mr. John Irwin (\"Irving\")    male  36.0    0.0    0.0   \n",
       "1     3.0      Sage, Miss. Constance Gladys  female   NaN    8.0    2.0   \n",
       "2     1.0             Rood, Mr. Hugh Roscoe    male   NaN    0.0    0.0   \n",
       "3     2.0      Gillespie, Mr. William Henry    male  34.0    0.0    0.0   \n",
       "4     2.0        Collander, Mr. Erik Gustaf    male  28.0    0.0    0.0   \n",
       "\n",
       "     ticket     fare cabin embarked boat  body  \\\n",
       "0  PC 17474  26.3875   E25        S    5   NaN   \n",
       "1  CA. 2343  69.5500   NaN        S  NaN   NaN   \n",
       "2    113767  50.0000   A32        S  NaN   NaN   \n",
       "3     12233  13.0000   NaN        S  NaN   NaN   \n",
       "4    248740  13.0000   NaN        S  NaN   NaN   \n",
       "\n",
       "                           home.dest  \n",
       "0                       Brooklyn, NY  \n",
       "1                                NaN  \n",
       "2                        Seattle, WA  \n",
       "3                      Vancouver, BC  \n",
       "4  Helsinki, Finland Ashtabula, Ohio  "
      ]
     },
     "execution_count": 17,
     "metadata": {},
     "output_type": "execute_result"
    }
   ],
   "source": [
    "test_data=pd.read_csv(\"Test.csv\")\n",
    "test_data.head()"
   ]
  },
  {
   "cell_type": "code",
   "execution_count": 18,
   "metadata": {},
   "outputs": [
    {
     "name": "stdout",
     "output_type": "stream",
     "text": [
      "<class 'pandas.core.frame.DataFrame'>\n",
      "RangeIndex: 300 entries, 0 to 299\n",
      "Data columns (total 13 columns):\n",
      "pclass       300 non-null float64\n",
      "name         300 non-null object\n",
      "sex          300 non-null object\n",
      "age          234 non-null float64\n",
      "sibsp        300 non-null float64\n",
      "parch        300 non-null float64\n",
      "ticket       300 non-null object\n",
      "fare         300 non-null float64\n",
      "cabin        66 non-null object\n",
      "embarked     299 non-null object\n",
      "boat         112 non-null object\n",
      "body         23 non-null float64\n",
      "home.dest    163 non-null object\n",
      "dtypes: float64(6), object(7)\n",
      "memory usage: 30.5+ KB\n"
     ]
    }
   ],
   "source": [
    "test_data.info()"
   ]
  },
  {
   "cell_type": "code",
   "execution_count": 19,
   "metadata": {},
   "outputs": [
    {
     "data": {
      "text/html": [
       "<div>\n",
       "<style scoped>\n",
       "    .dataframe tbody tr th:only-of-type {\n",
       "        vertical-align: middle;\n",
       "    }\n",
       "\n",
       "    .dataframe tbody tr th {\n",
       "        vertical-align: top;\n",
       "    }\n",
       "\n",
       "    .dataframe thead th {\n",
       "        text-align: right;\n",
       "    }\n",
       "</style>\n",
       "<table border=\"1\" class=\"dataframe\">\n",
       "  <thead>\n",
       "    <tr style=\"text-align: right;\">\n",
       "      <th></th>\n",
       "      <th>pclass</th>\n",
       "      <th>sex</th>\n",
       "      <th>age</th>\n",
       "      <th>sibsp</th>\n",
       "      <th>parch</th>\n",
       "      <th>fare</th>\n",
       "    </tr>\n",
       "  </thead>\n",
       "  <tbody>\n",
       "    <tr>\n",
       "      <th>0</th>\n",
       "      <td>1.0</td>\n",
       "      <td>male</td>\n",
       "      <td>36.0</td>\n",
       "      <td>0.0</td>\n",
       "      <td>0.0</td>\n",
       "      <td>26.3875</td>\n",
       "    </tr>\n",
       "    <tr>\n",
       "      <th>1</th>\n",
       "      <td>3.0</td>\n",
       "      <td>female</td>\n",
       "      <td>NaN</td>\n",
       "      <td>8.0</td>\n",
       "      <td>2.0</td>\n",
       "      <td>69.5500</td>\n",
       "    </tr>\n",
       "    <tr>\n",
       "      <th>2</th>\n",
       "      <td>1.0</td>\n",
       "      <td>male</td>\n",
       "      <td>NaN</td>\n",
       "      <td>0.0</td>\n",
       "      <td>0.0</td>\n",
       "      <td>50.0000</td>\n",
       "    </tr>\n",
       "    <tr>\n",
       "      <th>3</th>\n",
       "      <td>2.0</td>\n",
       "      <td>male</td>\n",
       "      <td>34.0</td>\n",
       "      <td>0.0</td>\n",
       "      <td>0.0</td>\n",
       "      <td>13.0000</td>\n",
       "    </tr>\n",
       "    <tr>\n",
       "      <th>4</th>\n",
       "      <td>2.0</td>\n",
       "      <td>male</td>\n",
       "      <td>28.0</td>\n",
       "      <td>0.0</td>\n",
       "      <td>0.0</td>\n",
       "      <td>13.0000</td>\n",
       "    </tr>\n",
       "  </tbody>\n",
       "</table>\n",
       "</div>"
      ],
      "text/plain": [
       "   pclass     sex   age  sibsp  parch     fare\n",
       "0     1.0    male  36.0    0.0    0.0  26.3875\n",
       "1     3.0  female   NaN    8.0    2.0  69.5500\n",
       "2     1.0    male   NaN    0.0    0.0  50.0000\n",
       "3     2.0    male  34.0    0.0    0.0  13.0000\n",
       "4     2.0    male  28.0    0.0    0.0  13.0000"
      ]
     },
     "execution_count": 19,
     "metadata": {},
     "output_type": "execute_result"
    }
   ],
   "source": [
    "columns_to_drop=[\"name\",\"ticket\",\"cabin\",\"embarked\",\"boat\",\"body\",\"home.dest\"]\n",
    "test_data_clean=test_data.drop(columns_to_drop,axis=1)\n",
    "test_data_clean.head()"
   ]
  },
  {
   "cell_type": "code",
   "execution_count": 20,
   "metadata": {},
   "outputs": [],
   "source": [
    "le=LabelEncoder()\n",
    "test_data_clean[\"sex\"]=le.fit_transform(test_data_clean[\"sex\"])"
   ]
  },
  {
   "cell_type": "code",
   "execution_count": 21,
   "metadata": {},
   "outputs": [
    {
     "name": "stdout",
     "output_type": "stream",
     "text": [
      "   pclass  sex   age  sibsp  parch     fare\n",
      "0     1.0    1  36.0    0.0    0.0  26.3875\n",
      "1     3.0    0   NaN    8.0    2.0  69.5500\n",
      "2     1.0    1   NaN    0.0    0.0  50.0000\n",
      "3     2.0    1  34.0    0.0    0.0  13.0000\n",
      "4     2.0    1  28.0    0.0    0.0  13.0000\n",
      "<class 'pandas.core.frame.DataFrame'>\n",
      "RangeIndex: 300 entries, 0 to 299\n",
      "Data columns (total 6 columns):\n",
      "pclass    300 non-null float64\n",
      "sex       300 non-null int64\n",
      "age       234 non-null float64\n",
      "sibsp     300 non-null float64\n",
      "parch     300 non-null float64\n",
      "fare      300 non-null float64\n",
      "dtypes: float64(5), int64(1)\n",
      "memory usage: 14.1 KB\n",
      "None\n"
     ]
    }
   ],
   "source": [
    "print(test_data_clean.head())\n",
    "print(test_data_clean.info())"
   ]
  },
  {
   "cell_type": "code",
   "execution_count": 22,
   "metadata": {},
   "outputs": [
    {
     "name": "stdout",
     "output_type": "stream",
     "text": [
      "<class 'pandas.core.frame.DataFrame'>\n",
      "RangeIndex: 300 entries, 0 to 299\n",
      "Data columns (total 6 columns):\n",
      "pclass    300 non-null float64\n",
      "sex       300 non-null int64\n",
      "age       300 non-null float64\n",
      "sibsp     300 non-null float64\n",
      "parch     300 non-null float64\n",
      "fare      300 non-null float64\n",
      "dtypes: float64(5), int64(1)\n",
      "memory usage: 14.1 KB\n"
     ]
    }
   ],
   "source": [
    "#fill Nan values\n",
    "test_data_clean=test_data_clean.fillna(test_data_clean[\"age\"].mean())\n",
    "test_data_clean.info()"
   ]
  },
  {
   "cell_type": "code",
   "execution_count": 23,
   "metadata": {},
   "outputs": [],
   "source": [
    "y_pred=[]\n",
    "for ix in range(test_data_clean.shape[0]):\n",
    "    y_pred.append(dt.predict(test_data_clean.loc[ix]))"
   ]
  },
  {
   "cell_type": "code",
   "execution_count": 24,
   "metadata": {},
   "outputs": [],
   "source": [
    "df=pd.DataFrame(y_pred,columns=[\"survived\"])\n",
    "df.index.name=\"Id\"\n",
    "df.to_csv(\"submit.csv\",index=True)"
   ]
  },
  {
   "cell_type": "markdown",
   "metadata": {},
   "source": [
    "## Decision Tree Sklearn Implementation"
   ]
  },
  {
   "cell_type": "code",
   "execution_count": 25,
   "metadata": {},
   "outputs": [],
   "source": [
    "from sklearn.tree import DecisionTreeClassifier\n",
    "sk_tree=DecisionTreeClassifier(criterion='entropy')\n",
    "sk_tree.fit(train_data_clean[input_cols],train_data_clean[output_cols])\n",
    "y_pred=sk_tree.predict(test_data_clean[input_cols])"
   ]
  },
  {
   "cell_type": "code",
   "execution_count": 26,
   "metadata": {},
   "outputs": [],
   "source": [
    "df=pd.DataFrame(y_pred,columns=[\"survived\"])\n",
    "df.index.name=\"Id\"\n",
    "df.to_csv(\"submit.csv\",index=True)"
   ]
  },
  {
   "cell_type": "markdown",
   "metadata": {},
   "source": [
    "## Random Forest Implementation"
   ]
  },
  {
   "cell_type": "code",
   "execution_count": 27,
   "metadata": {},
   "outputs": [
    {
     "name": "stderr",
     "output_type": "stream",
     "text": [
      "/home/muskan/anaconda3/lib/python3.7/site-packages/ipykernel_launcher.py:5: DataConversionWarning: A column-vector y was passed when a 1d array was expected. Please change the shape of y to (n_samples,), for example using ravel().\n",
      "  \"\"\"\n"
     ]
    }
   ],
   "source": [
    "#Random Forest\n",
    "from sklearn.model_selection import cross_val_score\n",
    "from sklearn.ensemble import RandomForestClassifier\n",
    "rf=RandomForestClassifier(n_estimators=30,criterion=\"entropy\")\n",
    "rf.fit(train_data_clean[input_cols],train_data_clean[output_cols])\n",
    "y_pred=rf.predict(test_data_clean[input_cols])"
   ]
  },
  {
   "cell_type": "code",
   "execution_count": 28,
   "metadata": {},
   "outputs": [],
   "source": [
    "df=pd.DataFrame(y_pred,columns=[\"survived\"])\n",
    "df.index.name=\"Id\"\n",
    "df.to_csv(\"submit.csv\",index=True)"
   ]
  },
  {
   "cell_type": "code",
   "execution_count": null,
   "metadata": {},
   "outputs": [],
   "source": []
  }
 ],
 "metadata": {
  "kernelspec": {
   "display_name": "Python 3",
   "language": "python",
   "name": "python3"
  },
  "language_info": {
   "codemirror_mode": {
    "name": "ipython",
    "version": 3
   },
   "file_extension": ".py",
   "mimetype": "text/x-python",
   "name": "python",
   "nbconvert_exporter": "python",
   "pygments_lexer": "ipython3",
   "version": "3.7.3"
  }
 },
 "nbformat": 4,
 "nbformat_minor": 2
}
