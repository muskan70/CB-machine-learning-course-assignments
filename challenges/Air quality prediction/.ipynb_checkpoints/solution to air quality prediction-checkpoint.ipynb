{
 "cells": [
  {
   "cell_type": "code",
   "execution_count": 14,
   "metadata": {},
   "outputs": [],
   "source": [
    "import numpy as np\n",
    "import pandas as pd\n",
    "import matplotlib.pyplot as plt"
   ]
  },
  {
   "cell_type": "code",
   "execution_count": 15,
   "metadata": {},
   "outputs": [
    {
     "name": "stdout",
     "output_type": "stream",
     "text": [
      "(1600, 6)\n",
      "(1600, 5) (1600,)\n",
      "[ 1.          0.29341624 -0.94559871 -0.42110515  0.40681602  0.52566183]\n",
      "(1600, 6)\n",
      "(1600,)\n"
     ]
    }
   ],
   "source": [
    "train_data=pd.read_csv('Train/Train.csv')\n",
    "train_data=train_data.values\n",
    "print(train_data.shape)\n",
    "x=train_data[:,0:5]\n",
    "x1=np.ones((x.shape[0],))\n",
    "print(x.shape,x1.shape)\n",
    "x=np.column_stack((x1,x))\n",
    "print(x[0])\n",
    "y=train_data[:,-1]\n",
    "print(x.shape)\n",
    "print(y.shape)"
   ]
  },
  {
   "cell_type": "code",
   "execution_count": 16,
   "metadata": {},
   "outputs": [],
   "source": [
    "def hypothesis(x,theta):\n",
    "    m=x.shape[0]\n",
    "    ans=0\n",
    "    for i in range(m):\n",
    "        ans+=(theta[i]*x[i])\n",
    "    return ans\n",
    "\n",
    "def error(X,Y,theta):\n",
    "    m=X.shape[0]\n",
    "    err=0\n",
    "    for i in range(m):\n",
    "        hx=hypothesis(X[i],theta)\n",
    "        err+=(hx-Y[i])**2\n",
    "    return err    \n",
    "\n",
    "def gradient(X,Y,theta):\n",
    "    n=X.shape[0]\n",
    "    m=theta.shape[0]\n",
    "    grad=np.zeros((m,))\n",
    "    for i in range(n):\n",
    "        hx=hypothesis(X[i],theta)\n",
    "        for j in range(m):\n",
    "            grad[j]+=(Y[i]-hx)*X[i][j]        \n",
    "    return grad        \n",
    "    "
   ]
  },
  {
   "cell_type": "code",
   "execution_count": 17,
   "metadata": {},
   "outputs": [],
   "source": [
    "def gradientDescent(X,Y,learning_rate=0.001,max_itr=100):\n",
    "    m=X.shape[1]\n",
    "    theta=np.zeros((m,))\n",
    "    itr=0\n",
    "    error_list=[]\n",
    "    theta_list=[]\n",
    "    while(itr<=max_itr):\n",
    "        grad=gradient(X,Y,theta)\n",
    "        err=error(X,Y,theta)\n",
    "        error_list.append(err)\n",
    "        theta_list.append(theta) \n",
    "        for i in range(m):\n",
    "            theta[i]=theta[i]+learning_rate*grad[i]\n",
    "        itr+=1\n",
    "    return theta,error_list,theta_list      "
   ]
  },
  {
   "cell_type": "code",
   "execution_count": 18,
   "metadata": {},
   "outputs": [
    {
     "name": "stdout",
     "output_type": "stream",
     "text": [
      "[ 4.99096327 29.68186937 92.66247503  8.28061685 44.76773276  2.51915835]\n"
     ]
    }
   ],
   "source": [
    "final_theta,error_list,theta_list=gradientDescent(x,y,0.0001)\n",
    "print(final_theta)"
   ]
  },
  {
   "cell_type": "code",
   "execution_count": 19,
   "metadata": {},
   "outputs": [
    {
     "data": {
      "image/png": "[encoded data removed]",
      "text/plain": [
       "<matplotlib.figure.Figure at 0x166ecb16240>"
      ]
     },
     "metadata": {},
     "output_type": "display_data"
    }
   ],
   "source": [
    "plt.plot(error_list)\n",
    "plt.show()"
   ]
  },
  {
   "cell_type": "code",
   "execution_count": 20,
   "metadata": {},
   "outputs": [
    {
     "name": "stdout",
     "output_type": "stream",
     "text": [
      "(400, 5)\n",
      "(400, 6)\n",
      "[ 1.         -0.3750212   0.95318453  0.62671914  0.70440575 -0.35548921]\n"
     ]
    }
   ],
   "source": [
    "test_data=pd.read_csv('Test/Test.csv')\n",
    "test_data=test_data.values\n",
    "print(test_data.shape)\n",
    "x1=np.ones((test_data.shape[0],))\n",
    "x_test=np.column_stack((x1,test_data))\n",
    "print(x_test.shape)\n",
    "print(x_test[1])"
   ]
  },
  {
   "cell_type": "code",
   "execution_count": 24,
   "metadata": {},
   "outputs": [],
   "source": [
    "m=x_test.shape[0]\n",
    "y_pred=[]\n",
    "for i in range(m):\n",
    "    hx=hypothesis(x_test[i],final_theta)\n",
    "    y_pred.append(hx)\n",
    "    \n",
    "ans=pd.DataFrame(y_pred,columns=['target'])\n",
    "ans.index.name='Id'\n",
    "ans.to_csv('submit.csv') "
   ]
  },
  {
   "cell_type": "code",
   "execution_count": null,
   "metadata": {},
   "outputs": [],
   "source": []
  }
 ],
 "metadata": {
  "kernelspec": {
   "display_name": "Python 3",
   "language": "python",
   "name": "python3"
  },
  "language_info": {
   "codemirror_mode": {
    "name": "ipython",
    "version": 3
   },
   "file_extension": ".py",
   "mimetype": "text/x-python",
   "name": "python",
   "nbconvert_exporter": "python",
   "pygments_lexer": "ipython3",
   "version": "3.6.4"
  }
 },
 "nbformat": 4,
 "nbformat_minor": 2
}
