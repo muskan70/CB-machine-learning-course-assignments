{
 "cells": [
  {
   "cell_type": "markdown",
   "metadata": {},
   "source": [
    "## Natural Language Processing (NLP) and Natural Language Toolkit (NLTK)"
   ]
  },
  {
   "cell_type": "code",
   "execution_count": 1,
   "metadata": {},
   "outputs": [
    {
     "name": "stderr",
     "output_type": "stream",
     "text": [
      "[nltk_data] Downloading package brown to /home/muskan/nltk_data...\n",
      "[nltk_data]   Package brown is already up-to-date!\n"
     ]
    },
    {
     "data": {
      "text/plain": [
       "True"
      ]
     },
     "execution_count": 1,
     "metadata": {},
     "output_type": "execute_result"
    }
   ],
   "source": [
    "#Download a dataset\n",
    "import nltk\n",
    "nltk.download('brown')"
   ]
  },
  {
   "cell_type": "code",
   "execution_count": 2,
   "metadata": {},
   "outputs": [
    {
     "name": "stdout",
     "output_type": "stream",
     "text": [
      "['adventure', 'belles_lettres', 'editorial', 'fiction', 'government', 'hobbies', 'humor', 'learned', 'lore', 'mystery', 'news', 'religion', 'reviews', 'romance', 'science_fiction']\n"
     ]
    }
   ],
   "source": [
    "#check categories in 'brown' dataset \n",
    "from nltk.corpus import brown\n",
    "print(brown.categories())"
   ]
  },
  {
   "cell_type": "code",
   "execution_count": 4,
   "metadata": {},
   "outputs": [
    {
     "name": "stdout",
     "output_type": "stream",
     "text": [
      "[['Assembly', 'session', 'brought', 'much', 'good'], ['The', 'General', 'Assembly', ',', 'which', 'adjourns', 'today', ',', 'has', 'performed', 'in', 'an', 'atmosphere', 'of', 'crisis', 'and', 'struggle', 'from', 'the', 'day', 'it', 'convened', '.'], ...]\n",
      "100\n"
     ]
    }
   ],
   "source": [
    "#Print words from a category\n",
    "data=brown.sents(categories='editorial')[:100]\n",
    "print(data)\n",
    "print(len(data))"
   ]
  },
  {
   "cell_type": "markdown",
   "metadata": {},
   "source": [
    "## Tokenization"
   ]
  },
  {
   "cell_type": "code",
   "execution_count": 3,
   "metadata": {},
   "outputs": [],
   "source": [
    "text=\"It was a very pleasant day, the weather was cool and there were light showers. I went to market to buy some fruits.\""
   ]
  },
  {
   "cell_type": "code",
   "execution_count": 4,
   "metadata": {},
   "outputs": [
    {
     "name": "stdout",
     "output_type": "stream",
     "text": [
      "['It was a very pleasant day, the weather was cool and there were light showers.', 'I went to market to buy some fruits.']\n",
      "['it', 'was', 'a', 'very', 'pleasant', 'day', ',', 'the', 'weather', 'was', 'cool', 'and', 'there', 'were', 'light', 'showers', '.']\n"
     ]
    }
   ],
   "source": [
    "#sentence tokenizer and word tokenizer\n",
    "from nltk.tokenize import sent_tokenize,word_tokenize\n",
    "sents=sent_tokenize(text)\n",
    "print(sents)\n",
    "words=word_tokenize(sents[0].lower())\n",
    "print(words)"
   ]
  },
  {
   "cell_type": "markdown",
   "metadata": {},
   "source": [
    "## Stopword Removal"
   ]
  },
  {
   "cell_type": "code",
   "execution_count": 8,
   "metadata": {},
   "outputs": [
    {
     "name": "stdout",
     "output_type": "stream",
     "text": [
      "179\n",
      "{'re', 'from', 'his', 'wasn', 'weren', 'than', 'can', 'between', 'does', \"didn't\", 't', 'theirs', 'doesn', 'haven', \"wouldn't\", 'against', \"hadn't\", 'ma', 'her', 'of', 'there', 'do', 'some', 'should', 've', \"hasn't\", 'at', 'we', \"that'll\", \"it's\", 'hasn', \"she's\", 'while', 'was', 'or', 'most', 'the', 'be', 'nor', 'didn', 'those', 'itself', 'after', 'been', 'because', 'on', 'before', 'its', 'why', 'me', 'this', 'just', 'm', 'are', 'he', 'other', 'further', 'very', 'these', 'now', 'when', 'not', \"don't\", 'o', 'whom', 'will', 'where', 'it', 'only', 'your', 'had', 'hadn', 'if', 'have', 'yours', 'each', 'ain', \"you've\", 'with', 'both', \"couldn't\", 'and', 'needn', 'aren', \"isn't\", \"needn't\", \"wasn't\", 'am', 'my', \"you'd\", 'an', 'is', 'as', 's', 'how', 'y', 'during', 'isn', 'any', \"weren't\", 'won', 'more', \"mustn't\", \"shouldn't\", 'ourselves', 'hers', 'yourselves', 'about', 'ours', \"mightn't\", 'by', 'themselves', 'again', 'for', 'has', 'then', 'through', 'them', \"shan't\", 'below', 'you', 'once', 'but', 'their', 'all', 'herself', 'same', 'too', 'i', \"you'll\", 'under', 'that', 'they', 'what', 'off', \"doesn't\", 'until', 'out', 'him', 'up', 'which', 'into', \"won't\", 'few', 'a', 'own', 'mightn', 'll', 'being', 'having', 'couldn', \"should've\", 'mustn', 'to', 'in', 'himself', 'such', \"aren't\", 'here', 'she', \"haven't\", 'doing', 'over', 'd', 'wouldn', 'who', 'yourself', 'don', 'above', 'down', 'did', \"you're\", 'myself', 'shouldn', 'were', 'shan', 'so', 'no', 'our'}\n"
     ]
    }
   ],
   "source": [
    "#list of stopwords in nltk\n",
    "from nltk.corpus import stopwords\n",
    "sw=set(stopwords.words('english'))\n",
    "print(len(sw))\n",
    "print(sw)"
   ]
  },
  {
   "cell_type": "code",
   "execution_count": 9,
   "metadata": {},
   "outputs": [
    {
     "name": "stdout",
     "output_type": "stream",
     "text": [
      "['pleasant', 'day', ',', 'weather', 'cool', 'light', 'showers', '.']\n"
     ]
    }
   ],
   "source": [
    "#filter words by removing stopwords\n",
    "def filter_words(word_list):\n",
    "    useful_words=[w for w in word_list if w not in sw]\n",
    "    return useful_words\n",
    "\n",
    "filtered_words=filter_words(words)\n",
    "print(filtered_words)"
   ]
  },
  {
   "cell_type": "markdown",
   "metadata": {},
   "source": [
    "## Tokenization using regular expression"
   ]
  },
  {
   "cell_type": "code",
   "execution_count": 10,
   "metadata": {},
   "outputs": [],
   "source": [
    "#make your own tokenizer\n",
    "from nltk.tokenize import RegexpTokenizer\n",
    "tokenizer=RegexpTokenizer(\"[a-zA-Z@]+\")"
   ]
  },
  {
   "cell_type": "code",
   "execution_count": 11,
   "metadata": {},
   "outputs": [
    {
     "name": "stdout",
     "output_type": "stream",
     "text": [
      "['It', 'was', 'a', 'very', 'pleasant', 'day', 'the', 'weather', 'was', 'cool', 'and', 'there', 'were', 'light', 'showers', 'I', 'went', 'to', 'market', 'to', 'buy', 'some', 'fruits']\n"
     ]
    }
   ],
   "source": [
    "#tokenize through own tokenizer\n",
    "text=\"It was a very pleasant day, the weather was cool and there were light showers. I went to market to buy some fruits.\"\n",
    "print(tokenizer.tokenize(text))"
   ]
  },
  {
   "cell_type": "code",
   "execution_count": 11,
   "metadata": {},
   "outputs": [
    {
     "name": "stdout",
     "output_type": "stream",
     "text": [
      "['pleasant', 'day', 'weather', 'cool', 'light', 'showers', 'went', 'market', 'buy', 'fruits']\n"
     ]
    }
   ],
   "source": [
    "word_list=tokenizer.tokenize(text.lower())\n",
    "fil_word=filter_words(word_list)\n",
    "print(fil_word)"
   ]
  },
  {
   "cell_type": "markdown",
   "metadata": {},
   "source": [
    "## Stemming of words"
   ]
  },
  {
   "cell_type": "code",
   "execution_count": 12,
   "metadata": {},
   "outputs": [
    {
     "data": {
      "text/plain": [
       "'jump'"
      ]
     },
     "execution_count": 12,
     "metadata": {},
     "output_type": "execute_result"
    }
   ],
   "source": [
    "#Porter Stemmer\n",
    "from nltk.stem.snowball import PorterStemmer\n",
    "ps=PorterStemmer()\n",
    "ps.stem(\"jumped\")"
   ]
  },
  {
   "cell_type": "code",
   "execution_count": 13,
   "metadata": {},
   "outputs": [
    {
     "data": {
      "text/plain": [
       "'love'"
      ]
     },
     "execution_count": 13,
     "metadata": {},
     "output_type": "execute_result"
    }
   ],
   "source": [
    "ps.stem(\"lovely\")"
   ]
  },
  {
   "cell_type": "code",
   "execution_count": 14,
   "metadata": {},
   "outputs": [
    {
     "data": {
      "text/plain": [
       "'awesom'"
      ]
     },
     "execution_count": 14,
     "metadata": {},
     "output_type": "execute_result"
    }
   ],
   "source": [
    "ps.stem(\"awesome\")"
   ]
  },
  {
   "cell_type": "code",
   "execution_count": 15,
   "metadata": {},
   "outputs": [
    {
     "data": {
      "text/plain": [
       "'tee'"
      ]
     },
     "execution_count": 15,
     "metadata": {},
     "output_type": "execute_result"
    }
   ],
   "source": [
    "#Lancaster Stemmer\n",
    "from nltk.stem.lancaster import LancasterStemmer\n",
    "ls=LancasterStemmer()\n",
    "ls.stem(\"teeth\")"
   ]
  },
  {
   "cell_type": "code",
   "execution_count": 16,
   "metadata": {},
   "outputs": [
    {
     "name": "stdout",
     "output_type": "stream",
     "text": [
      "teenag\n",
      "teen\n"
     ]
    }
   ],
   "source": [
    "print(ps.stem(\"teenager\"))\n",
    "print(ls.stem(\"teenager\"))"
   ]
  },
  {
   "cell_type": "code",
   "execution_count": 17,
   "metadata": {},
   "outputs": [
    {
     "data": {
      "text/plain": [
       "'mean'"
      ]
     },
     "execution_count": 17,
     "metadata": {},
     "output_type": "execute_result"
    }
   ],
   "source": [
    "#Snowball Stemmer\n",
    "from nltk.stem.snowball import SnowballStemmer\n",
    "ss=SnowballStemmer('english')\n",
    "ss.stem(\"meaningly\")"
   ]
  },
  {
   "cell_type": "code",
   "execution_count": 18,
   "metadata": {},
   "outputs": [
    {
     "name": "stdout",
     "output_type": "stream",
     "text": [
      "love\n",
      "teenag\n"
     ]
    }
   ],
   "source": [
    "print(ss.stem('lovely'))\n",
    "print(ss.stem('teenager'))"
   ]
  },
  {
   "cell_type": "code",
   "execution_count": 19,
   "metadata": {},
   "outputs": [
    {
     "name": "stdout",
     "output_type": "stream",
     "text": [
      "courai\n"
     ]
    }
   ],
   "source": [
    "ss_french = SnowballStemmer('french')\n",
    "print(ss.stem('courais'))"
   ]
  },
  {
   "cell_type": "markdown",
   "metadata": {},
   "source": [
    "## Word Lemmatization"
   ]
  },
  {
   "cell_type": "code",
   "execution_count": 19,
   "metadata": {},
   "outputs": [
    {
     "data": {
      "text/plain": [
       "'cry'"
      ]
     },
     "execution_count": 19,
     "metadata": {},
     "output_type": "execute_result"
    }
   ],
   "source": [
    "from nltk.stem import WordNetLemmatizer\n",
    "l=WordNetLemmatizer()\n",
    "l.lemmatize(\"crying\")"
   ]
  },
  {
   "cell_type": "markdown",
   "metadata": {},
   "source": [
    "## Text Cleaning : tokenize, stopword removal and stemming"
   ]
  },
  {
   "cell_type": "code",
   "execution_count": 20,
   "metadata": {},
   "outputs": [],
   "source": [
    "from nltk.tokenize import RegexpTokenizer\n",
    "from nltk.corpus import stopwords\n",
    "from nltk.stem.lancaster import LancasterStemmer\n",
    "\n",
    "def mytokenizer(text):\n",
    "    tokenizer=RegexpTokenizer(\"[a-zA-Z@]+\")\n",
    "    word_list=tokenizer.tokenize(text)\n",
    "    #print(\"word_list after tokenization:\")\n",
    "    #print(word_list)\n",
    "    sw=set(stopwords.words('english'))\n",
    "    useful_words=[w for w in word_list if w not in sw]\n",
    "    #print(\"word_list after stopword removal:\")\n",
    "    #print(useful_words)\n",
    "    ls=LancasterStemmer()\n",
    "    stem_words=[]\n",
    "    for w in useful_words:\n",
    "        t=ls.stem(w)\n",
    "        stem_words.append(t)\n",
    "    #print(\"word_list after stemming:\")\n",
    "    #print(stem_words)        \n",
    "    return stem_words"
   ]
  },
  {
   "cell_type": "code",
   "execution_count": 21,
   "metadata": {},
   "outputs": [
    {
     "name": "stdout",
     "output_type": "stream",
     "text": [
      "['fox', 'lov', 'mak', 'jump', 'the', 'quick', 'brown', 'fox', 'seen', 'jump', 'lov', 'dog', 'ft', 'feet', 'high', 'wal']\n"
     ]
    }
   ],
   "source": [
    "text= \"\"\"    Foxes love to make   jumps. The quick brown    fox was seen jumping over the \n",
    "        lovely dog from a 6ft feet high wall   \"\"\"\n",
    "ans=mytokenizer(text)\n",
    "print(ans)"
   ]
  },
  {
   "cell_type": "markdown",
   "metadata": {},
   "source": [
    "# Bag of words Model\n",
    "--Building common vocabulary and vectorizing documents"
   ]
  },
  {
   "cell_type": "code",
   "execution_count": 22,
   "metadata": {},
   "outputs": [],
   "source": [
    "corpus = [\n",
    "        'Indian cricket team will wins World Cup, says Capt. Virat Kohli. World cup will be held at SriLanka.',\n",
    "        'We will win next Lok Sabha Elections, says confident Indian PM',\n",
    "        'The nobel laurate won the hearts of the people',\n",
    "        'The movie Raazi is an exciting Indian Spy thriller based upon a real story'\n",
    "]"
   ]
  },
  {
   "cell_type": "code",
   "execution_count": 23,
   "metadata": {},
   "outputs": [
    {
     "name": "stdout",
     "output_type": "stream",
     "text": [
      "[[0 1 0 1 1 0 1 2 0 0 0 1 1 0 1 0 0 0 0 0 0 0 0 0 0 0 1 0 1 0 1 0 0 0 1 0\n",
      "  2 0 1 0 2]\n",
      " [0 0 0 0 0 1 0 0 1 0 0 0 1 0 0 0 1 0 1 0 0 0 1 0 0 1 1 0 0 0 0 0 0 0 0 1\n",
      "  1 1 0 0 0]\n",
      " [0 0 0 0 0 0 0 0 0 0 1 0 0 0 0 1 0 0 0 1 1 1 0 0 0 0 0 0 0 0 0 3 0 0 0 0\n",
      "  0 0 0 1 0]\n",
      " [1 0 1 0 0 0 0 0 0 1 0 0 1 1 0 0 0 1 0 0 0 0 0 1 1 0 0 1 0 1 0 1 1 1 0 0\n",
      "  0 0 0 0 0]]\n",
      "41\n"
     ]
    }
   ],
   "source": [
    "#Count Vectorizer\n",
    "from sklearn.feature_extraction.text import CountVectorizer\n",
    "cv=CountVectorizer()\n",
    "vectorized_corpus=cv.fit_transform(corpus).toarray()\n",
    "print(vectorized_corpus)\n",
    "print(len(vectorized_corpus[0]))"
   ]
  },
  {
   "cell_type": "code",
   "execution_count": 24,
   "metadata": {},
   "outputs": [
    {
     "name": "stdout",
     "output_type": "stream",
     "text": [
      "{'indian': 12, 'cricket': 6, 'team': 30, 'will': 36, 'wins': 38, 'world': 40, 'cup': 7, 'says': 26, 'capt': 4, 'virat': 34, 'kohli': 14, 'be': 3, 'held': 11, 'at': 1, 'srilanka': 28, 'we': 35, 'win': 37, 'next': 18, 'lok': 16, 'sabha': 25, 'elections': 8, 'confident': 5, 'pm': 22, 'the': 31, 'nobel': 19, 'laurate': 15, 'won': 39, 'hearts': 10, 'of': 20, 'people': 21, 'movie': 17, 'raazi': 23, 'is': 13, 'an': 0, 'exciting': 9, 'spy': 27, 'thriller': 32, 'based': 2, 'upon': 33, 'real': 24, 'story': 29}\n"
     ]
    }
   ],
   "source": [
    "print(cv.vocabulary_) #dictionary ---word:index"
   ]
  },
  {
   "cell_type": "code",
   "execution_count": 25,
   "metadata": {},
   "outputs": [
    {
     "name": "stdout",
     "output_type": "stream",
     "text": [
      "41\n"
     ]
    }
   ],
   "source": [
    "print(len(cv.vocabulary_))"
   ]
  },
  {
   "cell_type": "code",
   "execution_count": 26,
   "metadata": {},
   "outputs": [
    {
     "name": "stdout",
     "output_type": "stream",
     "text": [
      "[1. 1. 1. 0. 0. 0. 0. 1. 1. 1. 1. 1. 1. 1. 1. 1. 1. 1. 1. 1. 1. 1. 1. 1.\n",
      " 1. 1. 1. 1. 1. 1. 1. 1. 1. 1. 1. 1. 1. 1. 1. 1. 1.]\n"
     ]
    }
   ],
   "source": [
    "import numpy as np\n",
    "vector=np.ones((41,))\n",
    "vector[3:7]=0\n",
    "print(vector)"
   ]
  },
  {
   "cell_type": "code",
   "execution_count": 27,
   "metadata": {},
   "outputs": [
    {
     "name": "stdout",
     "output_type": "stream",
     "text": [
      "[array(['an', 'at', 'based', 'cup', 'elections', 'exciting', 'hearts',\n",
      "       'held', 'indian', 'is', 'kohli', 'laurate', 'lok', 'movie', 'next',\n",
      "       'nobel', 'of', 'people', 'pm', 'raazi', 'real', 'sabha', 'says',\n",
      "       'spy', 'srilanka', 'story', 'team', 'the', 'thriller', 'upon',\n",
      "       'virat', 'we', 'will', 'win', 'wins', 'won', 'world'], dtype='<U9')]\n"
     ]
    }
   ],
   "source": [
    "print(cv.inverse_transform(vector)) #index with value 0 are absent from list"
   ]
  },
  {
   "cell_type": "code",
   "execution_count": 28,
   "metadata": {},
   "outputs": [
    {
     "name": "stdout",
     "output_type": "stream",
     "text": [
      "4\n"
     ]
    }
   ],
   "source": [
    "print(cv.vocabulary_[\"capt\"])  #gives index of word"
   ]
  },
  {
   "cell_type": "code",
   "execution_count": 29,
   "metadata": {},
   "outputs": [
    {
     "data": {
      "text/plain": [
       "['ind',\n",
       " 'cricket',\n",
       " 'team',\n",
       " 'win',\n",
       " 'world',\n",
       " 'cup',\n",
       " 'say',\n",
       " 'capt',\n",
       " 'vir',\n",
       " 'kohl',\n",
       " 'world',\n",
       " 'cup',\n",
       " 'held',\n",
       " 'srilank']"
      ]
     },
     "execution_count": 29,
     "metadata": {},
     "output_type": "execute_result"
    }
   ],
   "source": [
    "mytokenizer(corpus[0])"
   ]
  },
  {
   "cell_type": "code",
   "execution_count": 30,
   "metadata": {},
   "outputs": [
    {
     "name": "stdout",
     "output_type": "stream",
     "text": [
      "[[0 1 0 1 2 0 0 0 1 1 1 0 0 0 0 0 0 0 0 0 0 1 0 1 0 1 0 0 1 1 2]]\n",
      "31\n"
     ]
    }
   ],
   "source": [
    "#give your own tokenizer to count vectorizer\n",
    "cv=CountVectorizer(tokenizer=mytokenizer)\n",
    "vectorised_corpus=cv.fit_transform(corpus)\n",
    "print(vectorised_corpus.todense()[0])\n",
    "print(len(vectorised_corpus.toarray()[0]))"
   ]
  },
  {
   "cell_type": "code",
   "execution_count": 31,
   "metadata": {},
   "outputs": [
    {
     "name": "stdout",
     "output_type": "stream",
     "text": [
      "[0 1 0 1 2 0 0 0 1 1 1 0 0 0 0 0 0 0 0 0 0 1 0 1 0 1 0 0 1 1 2]\n",
      "[1 1 0 1 2 0 0 0 1 1 1 0 0 0 0 0 0 0 0 0 0 1 0 1 0 1 0 0 1 1 2]\n"
     ]
    },
    {
     "data": {
      "text/plain": [
       "[array(['bas', 'capt', 'cricket', 'cup', 'held', 'ind', 'kohl', 'say',\n",
       "        'srilank', 'team', 'vir', 'win', 'world'], dtype='<U8')]"
      ]
     },
     "execution_count": 31,
     "metadata": {},
     "output_type": "execute_result"
    }
   ],
   "source": [
    "v=vectorised_corpus.toarray()[0]\n",
    "print(v)\n",
    "v[0]=1\n",
    "print(v)\n",
    "cv.inverse_transform(v)"
   ]
  },
  {
   "cell_type": "markdown",
   "metadata": {},
   "source": [
    "# N-gram features"
   ]
  },
  {
   "cell_type": "code",
   "execution_count": 32,
   "metadata": {},
   "outputs": [
    {
     "name": "stdout",
     "output_type": "stream",
     "text": [
      "{'ind': 9, 'cricket': 3, 'team': 25, 'win': 29, 'world': 30, 'cup': 4, 'say': 21, 'capt': 1, 'vir': 28, 'kohl': 10, 'held': 8, 'srilank': 23, 'next': 14, 'lok': 12, 'sabh': 20, 'elect': 5, 'confid': 2, 'pm': 17, 'nobel': 15, 'laur': 11, 'heart': 7, 'peopl': 16, 'movy': 13, 'raaz': 18, 'excit': 6, 'spy': 22, 'thriller': 26, 'bas': 0, 'upon': 27, 'real': 19, 'story': 24}\n",
      "31\n"
     ]
    }
   ],
   "source": [
    "#unigram features\n",
    "cv=CountVectorizer(tokenizer=mytokenizer,ngram_range=(1,1))\n",
    "vectorised_corpus=cv.fit_transform(corpus)\n",
    "vc=vectorised_corpus.toarray()\n",
    "print(cv.vocabulary_)\n",
    "print(len(vc[0]))"
   ]
  },
  {
   "cell_type": "code",
   "execution_count": 33,
   "metadata": {},
   "outputs": [
    {
     "name": "stdout",
     "output_type": "stream",
     "text": [
      "{'ind': 19, 'cricket': 6, 'team': 50, 'win': 58, 'world': 61, 'cup': 8, 'say': 43, 'capt': 2, 'vir': 56, 'kohl': 23, 'held': 17, 'srilank': 48, 'ind cricket': 20, 'cricket team': 7, 'team win': 51, 'win world': 60, 'world cup': 62, 'cup say': 10, 'say capt': 44, 'capt vir': 3, 'vir kohl': 57, 'kohl world': 24, 'cup held': 9, 'held srilank': 18, 'next': 31, 'lok': 27, 'sabh': 41, 'elect': 11, 'confid': 4, 'pm': 36, 'win next': 59, 'next lok': 32, 'lok sabh': 28, 'sabh elect': 42, 'elect say': 12, 'say confid': 45, 'confid ind': 5, 'ind pm': 21, 'nobel': 33, 'laur': 25, 'heart': 15, 'peopl': 35, 'nobel laur': 34, 'laur heart': 26, 'heart peopl': 16, 'movy': 29, 'raaz': 37, 'excit': 13, 'spy': 46, 'thriller': 52, 'bas': 0, 'upon': 54, 'real': 39, 'story': 49, 'movy raaz': 30, 'raaz excit': 38, 'excit ind': 14, 'ind spy': 22, 'spy thriller': 47, 'thriller bas': 53, 'bas upon': 1, 'upon real': 55, 'real story': 40}\n",
      "63\n"
     ]
    }
   ],
   "source": [
    "#bigram and unigram features\n",
    "cv=CountVectorizer(tokenizer=mytokenizer,ngram_range=(1,2))\n",
    "vectorised_corpus=cv.fit_transform(corpus)\n",
    "vc=vectorised_corpus.toarray()\n",
    "print(cv.vocabulary_)\n",
    "print(len(vc[0]))"
   ]
  },
  {
   "cell_type": "code",
   "execution_count": 34,
   "metadata": {},
   "outputs": [
    {
     "name": "stdout",
     "output_type": "stream",
     "text": [
      "{'ind cricket team': 8, 'cricket team win': 3, 'team win world': 21, 'win world cup': 26, 'world cup say': 28, 'cup say capt': 5, 'say capt vir': 18, 'capt vir kohl': 1, 'vir kohl world': 24, 'kohl world cup': 10, 'world cup held': 27, 'cup held srilank': 4, 'win next lok': 25, 'next lok sabh': 14, 'lok sabh elect': 12, 'sabh elect say': 17, 'elect say confid': 6, 'say confid ind': 19, 'confid ind pm': 2, 'nobel laur heart': 15, 'laur heart peopl': 11, 'movy raaz excit': 13, 'raaz excit ind': 16, 'excit ind spy': 7, 'ind spy thriller': 9, 'spy thriller bas': 20, 'thriller bas upon': 22, 'bas upon real': 0, 'upon real story': 23}\n",
      "29\n"
     ]
    }
   ],
   "source": [
    "#trigram features\n",
    "cv=CountVectorizer(tokenizer=mytokenizer,ngram_range=(3,3))\n",
    "vectorised_corpus=cv.fit_transform(corpus)\n",
    "vc=vectorised_corpus.toarray()\n",
    "print(cv.vocabulary_)\n",
    "print(len(vc[0]))"
   ]
  },
  {
   "cell_type": "markdown",
   "metadata": {},
   "source": [
    "# TF-IDF Normalization\n",
    "-term document frequency : associates weight with every term"
   ]
  },
  {
   "cell_type": "code",
   "execution_count": 35,
   "metadata": {},
   "outputs": [
    {
     "name": "stdout",
     "output_type": "stream",
     "text": [
      "[[0.         0.24506716 0.         0.24506716 0.49013431 0.\n",
      "  0.         0.         0.24506716 0.15642319 0.24506716 0.\n",
      "  0.         0.         0.         0.         0.         0.\n",
      "  0.         0.         0.         0.19321376 0.         0.24506716\n",
      "  0.         0.24506716 0.         0.         0.24506716 0.19321376\n",
      "  0.49013431]\n",
      " [0.         0.         0.36153669 0.         0.         0.36153669\n",
      "  0.         0.         0.         0.23076418 0.         0.\n",
      "  0.36153669 0.         0.36153669 0.         0.         0.36153669\n",
      "  0.         0.         0.36153669 0.28503968 0.         0.\n",
      "  0.         0.         0.         0.         0.         0.28503968\n",
      "  0.        ]\n",
      " [0.         0.         0.         0.         0.         0.\n",
      "  0.         0.5        0.         0.         0.         0.5\n",
      "  0.         0.         0.         0.5        0.5        0.\n",
      "  0.         0.         0.         0.         0.         0.\n",
      "  0.         0.         0.         0.         0.         0.\n",
      "  0.        ]\n",
      " [0.32603555 0.         0.         0.         0.         0.\n",
      "  0.32603555 0.         0.         0.20810427 0.         0.\n",
      "  0.         0.32603555 0.         0.         0.         0.\n",
      "  0.32603555 0.32603555 0.         0.         0.32603555 0.\n",
      "  0.32603555 0.         0.32603555 0.32603555 0.         0.\n",
      "  0.        ]]\n"
     ]
    }
   ],
   "source": [
    "from sklearn.feature_extraction.text import TfidfVectorizer\n",
    "tfidf_vectorizer=TfidfVectorizer(tokenizer=mytokenizer,ngram_range=(1,1),norm='l2')\n",
    "vectorized_corpus=tfidf_vectorizer.fit_transform(corpus).toarray()\n",
    "print(vectorized_corpus)"
   ]
  },
  {
   "cell_type": "code",
   "execution_count": 36,
   "metadata": {},
   "outputs": [
    {
     "name": "stdout",
     "output_type": "stream",
     "text": [
      "{'ind': 9, 'cricket': 3, 'team': 25, 'win': 29, 'world': 30, 'cup': 4, 'say': 21, 'capt': 1, 'vir': 28, 'kohl': 10, 'held': 8, 'srilank': 23, 'next': 14, 'lok': 12, 'sabh': 20, 'elect': 5, 'confid': 2, 'pm': 17, 'nobel': 15, 'laur': 11, 'heart': 7, 'peopl': 16, 'movy': 13, 'raaz': 18, 'excit': 6, 'spy': 22, 'thriller': 26, 'bas': 0, 'upon': 27, 'real': 19, 'story': 24}\n"
     ]
    }
   ],
   "source": [
    "print(tfidf_vectorizer.vocabulary_)"
   ]
  },
  {
   "cell_type": "code",
   "execution_count": null,
   "metadata": {},
   "outputs": [],
   "source": []
  }
 ],
 "metadata": {
  "kernelspec": {
   "display_name": "Python 3",
   "language": "python",
   "name": "python3"
  },
  "language_info": {
   "codemirror_mode": {
    "name": "ipython",
    "version": 3
   },
   "file_extension": ".py",
   "mimetype": "text/x-python",
   "name": "python",
   "nbconvert_exporter": "python",
   "pygments_lexer": "ipython3",
   "version": "3.7.3"
  }
 },
 "nbformat": 4,
 "nbformat_minor": 2
}
