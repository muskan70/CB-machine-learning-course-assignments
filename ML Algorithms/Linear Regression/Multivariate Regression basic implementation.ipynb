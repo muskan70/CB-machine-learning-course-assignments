{
 "cells": [
  {
   "cell_type": "markdown",
   "metadata": {},
   "source": [
    "## Multivariate Regression Implementation"
   ]
  },
  {
   "cell_type": "code",
   "execution_count": 1,
   "metadata": {},
   "outputs": [],
   "source": [
    "#import Libraries\n",
    "import numpy as np\n",
    "import pandas as pd\n",
    "import matplotlib.pyplot as plt"
   ]
  },
  {
   "cell_type": "code",
   "execution_count": 2,
   "metadata": {},
   "outputs": [
    {
     "name": "stdout",
     "output_type": "stream",
     "text": [
      "(1600, 6)\n",
      "(1600, 5) (1600,)\n",
      "[ 1.          0.29341624 -0.94559871 -0.42110515  0.40681602  0.52566183]\n",
      "(1600, 6)\n",
      "(1600,)\n"
     ]
    }
   ],
   "source": [
    "#load dataset\n",
    "train_data=pd.read_csv('../../Datasets/Regression_Data/Train.csv')\n",
    "train_data=train_data.values\n",
    "print(train_data.shape)\n",
    "x=train_data[:,0:5]\n",
    "x1=np.ones((x.shape[0],))\n",
    "print(x.shape,x1.shape)\n",
    "x=np.column_stack((x1,x))\n",
    "print(x[0])\n",
    "y=train_data[:,-1]\n",
    "print(x.shape)\n",
    "print(y.shape)"
   ]
  },
  {
   "cell_type": "code",
   "execution_count": 3,
   "metadata": {},
   "outputs": [
    {
     "data": {
      "image/png": "[encoded data removed]",
      "text/plain": [
       "<Figure size 432x288 with 6 Axes>"
      ]
     },
     "metadata": {
      "needs_background": "light"
     },
     "output_type": "display_data"
    }
   ],
   "source": [
    "#plot the dataset\n",
    "fig=plt.figure()\n",
    "m=x.shape[1]\n",
    "fig.subplots_adjust(hspace=0.4, wspace=0.4)\n",
    "for i in range(1,m+1):\n",
    "    ax=fig.add_subplot(2,3,i)\n",
    "    ax.scatter(x[:,i-1],y)\n",
    "plt.show()"
   ]
  },
  {
   "cell_type": "code",
   "execution_count": 4,
   "metadata": {},
   "outputs": [],
   "source": [
    "#calculate predicted value\n",
    "def hypothesis(x,theta):\n",
    "    m=x.shape[0]\n",
    "    ans=0\n",
    "    for i in range(m):\n",
    "        ans+=(theta[i]*x[i])\n",
    "    return ans\n",
    "\n",
    "#calculate error between predicted and real value\n",
    "def error(X,Y,theta):\n",
    "    m=X.shape[0]\n",
    "    err=0\n",
    "    for i in range(m):\n",
    "        hx=hypothesis(X[i],theta)\n",
    "        err+=(hx-Y[i])**2\n",
    "    return err    \n",
    "\n",
    "#calculate gradient\n",
    "def gradient(X,Y,theta):\n",
    "    n=X.shape[0]\n",
    "    m=theta.shape[0]\n",
    "    grad=np.zeros((m,))\n",
    "    for i in range(n):\n",
    "        hx=hypothesis(X[i],theta)\n",
    "        for j in range(m):\n",
    "            grad[j]+=(Y[i]-hx)*X[i][j]        \n",
    "    return grad        \n",
    "    "
   ]
  },
  {
   "cell_type": "code",
   "execution_count": 5,
   "metadata": {},
   "outputs": [],
   "source": [
    "#Gradient descent algo for multiple features\n",
    "def gradientDescent(X,Y,learning_rate=0.001,max_itr=100):\n",
    "    m=X.shape[1]\n",
    "    theta=np.zeros((m,))\n",
    "    itr=0\n",
    "    error_list=[]\n",
    "    theta_list=[]\n",
    "    while(itr<=max_itr):\n",
    "        grad=gradient(X,Y,theta)\n",
    "        err=error(X,Y,theta)\n",
    "        error_list.append(err)\n",
    "        theta_list.append(theta) \n",
    "        for i in range(m):\n",
    "            theta[i]=theta[i]+learning_rate*grad[i]\n",
    "        itr+=1\n",
    "    return theta,error_list,theta_list      "
   ]
  },
  {
   "cell_type": "code",
   "execution_count": 6,
   "metadata": {},
   "outputs": [
    {
     "name": "stdout",
     "output_type": "stream",
     "text": [
      "[ 4.99096327 29.68186937 92.66247503  8.28061685 44.76773276  2.51915835]\n"
     ]
    }
   ],
   "source": [
    "final_theta,error_list,theta_list=gradientDescent(x,y,0.0001)\n",
    "print(final_theta)"
   ]
  },
  {
   "cell_type": "code",
   "execution_count": 7,
   "metadata": {},
   "outputs": [
    {
     "data": {
      "image/png": "[encoded data removed]",
      "text/plain": [
       "<Figure size 432x288 with 1 Axes>"
      ]
     },
     "metadata": {
      "needs_background": "light"
     },
     "output_type": "display_data"
    }
   ],
   "source": [
    "plt.plot(error_list)\n",
    "plt.show()"
   ]
  },
  {
   "cell_type": "code",
   "execution_count": null,
   "metadata": {},
   "outputs": [],
   "source": []
  },
  {
   "cell_type": "code",
   "execution_count": null,
   "metadata": {},
   "outputs": [],
   "source": []
  }
 ],
 "metadata": {
  "kernelspec": {
   "display_name": "Python 3",
   "language": "python",
   "name": "python3"
  },
  "language_info": {
   "codemirror_mode": {
    "name": "ipython",
    "version": 3
   },
   "file_extension": ".py",
   "mimetype": "text/x-python",
   "name": "python",
   "nbconvert_exporter": "python",
   "pygments_lexer": "ipython3",
   "version": "3.7.3"
  }
 },
 "nbformat": 4,
 "nbformat_minor": 2
}
