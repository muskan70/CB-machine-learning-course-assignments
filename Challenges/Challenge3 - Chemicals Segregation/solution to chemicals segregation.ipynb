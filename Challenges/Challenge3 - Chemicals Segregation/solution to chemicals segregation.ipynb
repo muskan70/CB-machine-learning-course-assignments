{
 "cells": [
  {
   "cell_type": "code",
   "execution_count": 4,
   "metadata": {},
   "outputs": [],
   "source": [
    "import numpy as np\n",
    "import pandas as pd\n",
    "import matplotlib.pyplot as plt"
   ]
  },
  {
   "cell_type": "code",
   "execution_count": 5,
   "metadata": {},
   "outputs": [
    {
     "name": "stdout",
     "output_type": "stream",
     "text": [
      "(3000, 3) (3000, 1)\n"
     ]
    }
   ],
   "source": [
    "dfx=pd.read_csv('Training Data/Logistic_X_Train.csv')\n",
    "dfy=pd.read_csv('Training Data/Logistic_Y_Train.csv')\n",
    "x=dfx.values\n",
    "y=dfy.values\n",
    "print(x.shape,y.shape)"
   ]
  },
  {
   "cell_type": "code",
   "execution_count": 6,
   "metadata": {},
   "outputs": [],
   "source": [
    "def hypothesis(x,w,b):\n",
    "    h=np.dot(x,w)+b\n",
    "    return sigmoid(h)\n",
    "\n",
    "def sigmoid(z):\n",
    "    return 1.0/(1.0+np.exp(-1.0*z))\n",
    "\n",
    "def error(y_true,x,w,b):\n",
    "    m=x.shape[0]\n",
    "    err=0.0\n",
    "    for i in range(m):\n",
    "        hx=hypothesis(x[i],w,b)\n",
    "        err+=y_true[i]*np.log2(hx)+(1-y_true[i])*np.log2(1-hx)\n",
    "    return -err/m\n",
    "\n",
    "def get_grads(y_true,x,w,b):\n",
    "    grad_w=np.zeros(w.shape)\n",
    "    grad_b=0.0\n",
    "    m=x.shape[0]\n",
    "    for i in range(m):\n",
    "        hx=hypothesis(x[i],w,b)\n",
    "        grad_w+=(y_true[i]-hx)*x[i]\n",
    "        grad_b+=(y_true[i]-hx)\n",
    "    grad_w/=m\n",
    "    grad_b/=m\n",
    "    return [grad_w,grad_b]    "
   ]
  },
  {
   "cell_type": "code",
   "execution_count": 27,
   "metadata": {},
   "outputs": [],
   "source": [
    "def grad_Descent(x,y_true,w,b,learning_rate=0.1):\n",
    "    err=error(y_true,x,w,b)\n",
    "    [grad_w,grad_b]=get_grads(y_true,x,w,b)\n",
    "    w=w+learning_rate*grad_w\n",
    "    b=b+learning_rate*grad_b\n",
    "    return err,w,b\n",
    "\n",
    "def predict(x,w,b):\n",
    "    confidence=hypothesis(x,w,b)\n",
    "    if confidence<0.5:\n",
    "        return 0\n",
    "    else:\n",
    "        return 1\n",
    "    \n",
    "def get_prediction(x_tst,w,b):\n",
    "    y_pred=[]\n",
    "    for i in range(x_tst.shape[0]):\n",
    "        p=predict(x_tst[i],w,b)\n",
    "        y_pred.append(p)\n",
    "    return y_pred   "
   ]
  },
  {
   "cell_type": "code",
   "execution_count": 28,
   "metadata": {},
   "outputs": [],
   "source": [
    "loss=[]\n",
    "acc=[]\n",
    "w=2*np.random.random((x.shape[1],))\n",
    "b=5*np.random.random()\n",
    "\n",
    "for i in range(300):\n",
    "    l,w,b=grad_Descent(x,y,w,b,learning_rate=0.1)\n",
    "    #acc.append(get_acc(X_test,Y_test,w,b))\n",
    "    loss.append(l)"
   ]
  },
  {
   "cell_type": "code",
   "execution_count": 29,
   "metadata": {},
   "outputs": [
    {
     "data": {
      "image/png": "[encoded data removed]",
      "text/plain": [
       "<matplotlib.figure.Figure at 0x1cb268dbeb8>"
      ]
     },
     "metadata": {},
     "output_type": "display_data"
    }
   ],
   "source": [
    "plt.plot(loss)\n",
    "plt.xlabel(\"Time\")\n",
    "plt.ylabel(\"Negative of log livelihood\")\n",
    "plt.show()"
   ]
  },
  {
   "cell_type": "code",
   "execution_count": 30,
   "metadata": {},
   "outputs": [
    {
     "name": "stdout",
     "output_type": "stream",
     "text": [
      "(1000, 3)\n"
     ]
    }
   ],
   "source": [
    "dfx=pd.read_csv('Test Cases/Logistic_X_Test.csv')\n",
    "x_tst=dfx.values\n",
    "print(x_tst.shape)"
   ]
  },
  {
   "cell_type": "code",
   "execution_count": 31,
   "metadata": {},
   "outputs": [],
   "source": [
    "y_pred=get_prediction(x_tst,w,b)"
   ]
  },
  {
   "cell_type": "code",
   "execution_count": 34,
   "metadata": {},
   "outputs": [],
   "source": [
    "ans=pd.DataFrame(y_pred,columns=['label'])\n",
    "ans.to_csv('submit.csv',index=False) "
   ]
  },
  {
   "cell_type": "code",
   "execution_count": null,
   "metadata": {},
   "outputs": [],
   "source": []
  }
 ],
 "metadata": {
  "kernelspec": {
   "display_name": "Python 3",
   "language": "python",
   "name": "python3"
  },
  "language_info": {
   "codemirror_mode": {
    "name": "ipython",
    "version": 3
   },
   "file_extension": ".py",
   "mimetype": "text/x-python",
   "name": "python",
   "nbconvert_exporter": "python",
   "pygments_lexer": "ipython3",
   "version": "3.6.4"
  }
 },
 "nbformat": 4,
 "nbformat_minor": 2
}
