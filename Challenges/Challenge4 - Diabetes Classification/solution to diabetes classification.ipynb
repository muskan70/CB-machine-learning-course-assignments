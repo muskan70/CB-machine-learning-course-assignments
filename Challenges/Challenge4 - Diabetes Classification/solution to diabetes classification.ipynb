{
 "cells": [
  {
   "cell_type": "code",
   "execution_count": 1,
   "metadata": {},
   "outputs": [],
   "source": [
    "import numpy as np\n",
    "import pandas as pd\n",
    "import matplotlib.pyplot as plt"
   ]
  },
  {
   "cell_type": "code",
   "execution_count": 3,
   "metadata": {},
   "outputs": [
    {
     "name": "stdout",
     "output_type": "stream",
     "text": [
      "(576, 8) (576, 1)\n",
      "Index(['Pregnancies', 'Glucose', 'BloodPressure', 'SkinThickness', 'Insulin',\n",
      "       'BMI', 'DiabetesPedigreeFunction', 'Age'],\n",
      "      dtype='object')\n",
      "   Pregnancies  Glucose  BloodPressure  SkinThickness  Insulin   BMI  \\\n",
      "0            7      168             88             42      321  38.2   \n",
      "1            8      110             76              0        0  27.8   \n",
      "2            7      147             76              0        0  39.4   \n",
      "3            2      100             66             20       90  32.9   \n",
      "4            4      129             86             20      270  35.1   \n",
      "\n",
      "   DiabetesPedigreeFunction  Age  \n",
      "0                     0.787   40  \n",
      "1                     0.237   58  \n",
      "2                     0.257   43  \n",
      "3                     0.867   28  \n",
      "4                     0.231   23  \n",
      "   Outcome\n",
      "0        1\n",
      "1        0\n",
      "2        1\n",
      "3        1\n",
      "4        0\n"
     ]
    }
   ],
   "source": [
    "dfx=pd.read_csv('Training Data/Diabetes_XTrain.csv')\n",
    "dfy=pd.read_csv('Training Data/Diabetes_YTrain.csv')\n",
    "print(dfx.shape,dfy.shape)\n",
    "print(dfx.columns)\n",
    "print(dfx.head(n=5))\n",
    "print(dfy.head(n=5))"
   ]
  },
  {
   "cell_type": "code",
   "execution_count": 20,
   "metadata": {},
   "outputs": [
    {
     "name": "stdout",
     "output_type": "stream",
     "text": [
      "(array([0, 1], dtype=int64), array([375, 201], dtype=int64))\n"
     ]
    },
    {
     "data": {
      "image/png": "[encoded data removed]",
      "text/plain": [
       "<matplotlib.figure.Figure at 0x1f84ecb2400>"
      ]
     },
     "metadata": {},
     "output_type": "display_data"
    }
   ],
   "source": [
    "X_train=dfx.values\n",
    "Y_train=dfy.values\n",
    "Y_plot=np.unique(Y_train,return_counts=True)\n",
    "print(Y_plot)\n",
    "objects=['Class 0','Class 1']\n",
    "plt.bar(Y_plot[0],Y_plot[1],align='center',alpha=0.5)\n",
    "plt.xticks(Y_plot[0],objects)\n",
    "plt.xlabel('Outcome')\n",
    "plt.ylabel('No of examples')\n",
    "plt.show()"
   ]
  },
  {
   "cell_type": "code",
   "execution_count": 21,
   "metadata": {},
   "outputs": [],
   "source": [
    "#knn algo\n",
    "def dist(x1,x2):\n",
    "    return np.sqrt(sum((x1-x2)**2))\n",
    "\n",
    "def knn(X,Y,queryPoint,k=5):\n",
    "    vals=[]\n",
    "    m=X.shape[0]\n",
    "    for i in range(m):\n",
    "        d=dist(queryPoint,X[i])\n",
    "        vals.append((d,Y[i]))\n",
    "    vals=sorted(vals)\n",
    "    vals=vals[:k]\n",
    "    vals=np.array(vals)\n",
    "    new_vals=np.unique(vals[:,1],return_counts=True)\n",
    "    index=new_vals[1].argmax()\n",
    "    pred=new_vals[0][index]\n",
    "    return pred"
   ]
  },
  {
   "cell_type": "code",
   "execution_count": 23,
   "metadata": {},
   "outputs": [
    {
     "name": "stdout",
     "output_type": "stream",
     "text": [
      "(192, 8)\n"
     ]
    }
   ],
   "source": [
    "dfx=pd.read_csv('Test Cases/Diabetes_Xtest.csv')\n",
    "X_test=dfx.values\n",
    "print(X_test.shape)"
   ]
  },
  {
   "cell_type": "code",
   "execution_count": 29,
   "metadata": {},
   "outputs": [],
   "source": [
    "def get_prediction():\n",
    "    m=X_test.shape[0]\n",
    "    Y_pred=[]\n",
    "    for i in range(m):\n",
    "        p=knn(X_train,Y_train,X_test[i])\n",
    "        Y_pred.append(int(p))\n",
    "    return Y_pred"
   ]
  },
  {
   "cell_type": "code",
   "execution_count": 30,
   "metadata": {},
   "outputs": [
    {
     "name": "stdout",
     "output_type": "stream",
     "text": [
      "192\n"
     ]
    }
   ],
   "source": [
    "y_pred=get_prediction()\n",
    "print(len(y_pred))"
   ]
  },
  {
   "cell_type": "code",
   "execution_count": 31,
   "metadata": {},
   "outputs": [],
   "source": [
    "ans=pd.DataFrame(y_pred,columns=['Outcome'])\n",
    "ans.to_csv('submit.csv',index=False) "
   ]
  },
  {
   "cell_type": "code",
   "execution_count": null,
   "metadata": {},
   "outputs": [],
   "source": []
  }
 ],
 "metadata": {
  "kernelspec": {
   "display_name": "Python 3",
   "language": "python",
   "name": "python3"
  },
  "language_info": {
   "codemirror_mode": {
    "name": "ipython",
    "version": 3
   },
   "file_extension": ".py",
   "mimetype": "text/x-python",
   "name": "python",
   "nbconvert_exporter": "python",
   "pygments_lexer": "ipython3",
   "version": "3.7.3"
  }
 },
 "nbformat": 4,
 "nbformat_minor": 2
}
